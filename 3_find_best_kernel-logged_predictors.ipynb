{
 "cells": [
  {
   "cell_type": "code",
   "execution_count": 1,
   "metadata": {},
   "outputs": [
    {
     "name": "stderr",
     "output_type": "stream",
     "text": [
      "WARNING (theano.configdefaults): install mkl with `conda install mkl-service`: No module named 'mkl'\n"
     ]
    }
   ],
   "source": [
    "import pandas as pd\n",
    "import patsy as pt\n",
    "import numpy as np\n",
    "import seaborn as sns\n",
    "import matplotlib.pyplot as plt\n",
    "from sklearn import preprocessing\n",
    "%matplotlib inline\n",
    "import re\n",
    "import pymc3 as pm\n",
    "import matplotlib.ticker as tk\n",
    "import re\n",
    "from sklearn.model_selection import StratifiedKFold\n",
    "import pickle"
   ]
  },
  {
   "cell_type": "markdown",
   "metadata": {},
   "source": [
    "## Import data"
   ]
  },
  {
   "cell_type": "code",
   "execution_count": 2,
   "metadata": {},
   "outputs": [],
   "source": [
    "df = pd.read_csv('outputs/ala1_trials_clean.csv')\n",
    "df = df.rename(columns={'project_name': 'basis', 'cluster__n_clusters': 'n', 'test_mean': 'y'}).\\\n",
    "loc[:, ['basis', 'y', 'n']]"
   ]
  },
  {
   "cell_type": "markdown",
   "metadata": {},
   "source": [
    "## Scale predictors\n",
    "\n"
   ]
  },
  {
   "cell_type": "code",
   "execution_count": 3,
   "metadata": {},
   "outputs": [
    {
     "data": {
      "text/html": [
       "<div>\n",
       "<style scoped>\n",
       "    .dataframe tbody tr th:only-of-type {\n",
       "        vertical-align: middle;\n",
       "    }\n",
       "\n",
       "    .dataframe tbody tr th {\n",
       "        vertical-align: top;\n",
       "    }\n",
       "\n",
       "    .dataframe thead th {\n",
       "        text-align: right;\n",
       "    }\n",
       "</style>\n",
       "<table border=\"1\" class=\"dataframe\">\n",
       "  <thead>\n",
       "    <tr style=\"text-align: right;\">\n",
       "      <th></th>\n",
       "      <th>0</th>\n",
       "      <th>1</th>\n",
       "      <th>2</th>\n",
       "      <th>3</th>\n",
       "      <th>4</th>\n",
       "      <th>5</th>\n",
       "      <th>6</th>\n",
       "      <th>7</th>\n",
       "      <th>8</th>\n",
       "      <th>9</th>\n",
       "      <th>...</th>\n",
       "      <th>490</th>\n",
       "      <th>491</th>\n",
       "      <th>492</th>\n",
       "      <th>493</th>\n",
       "      <th>494</th>\n",
       "      <th>495</th>\n",
       "      <th>496</th>\n",
       "      <th>497</th>\n",
       "      <th>498</th>\n",
       "      <th>499</th>\n",
       "    </tr>\n",
       "  </thead>\n",
       "  <tbody>\n",
       "    <tr>\n",
       "      <th>basis</th>\n",
       "      <td>psi</td>\n",
       "      <td>rmsd</td>\n",
       "      <td>phipsi</td>\n",
       "      <td>phipsi</td>\n",
       "      <td>phi</td>\n",
       "      <td>positions</td>\n",
       "      <td>rmsd</td>\n",
       "      <td>phi</td>\n",
       "      <td>psi</td>\n",
       "      <td>positions</td>\n",
       "      <td>...</td>\n",
       "      <td>positions</td>\n",
       "      <td>phipsi</td>\n",
       "      <td>phipsi</td>\n",
       "      <td>positions</td>\n",
       "      <td>phipsi</td>\n",
       "      <td>positions</td>\n",
       "      <td>phipsi</td>\n",
       "      <td>positions</td>\n",
       "      <td>positions</td>\n",
       "      <td>positions</td>\n",
       "    </tr>\n",
       "    <tr>\n",
       "      <th>y</th>\n",
       "      <td>1.79637</td>\n",
       "      <td>1.70957</td>\n",
       "      <td>3.27798</td>\n",
       "      <td>3.28693</td>\n",
       "      <td>1.98877</td>\n",
       "      <td>3.29715</td>\n",
       "      <td>1.70869</td>\n",
       "      <td>1.98756</td>\n",
       "      <td>1.79831</td>\n",
       "      <td>3.16998</td>\n",
       "      <td>...</td>\n",
       "      <td>3.31788</td>\n",
       "      <td>3.30056</td>\n",
       "      <td>3.29722</td>\n",
       "      <td>3.32348</td>\n",
       "      <td>3.29749</td>\n",
       "      <td>3.33242</td>\n",
       "      <td>3.31647</td>\n",
       "      <td>2.94608</td>\n",
       "      <td>3.31237</td>\n",
       "      <td>3.08385</td>\n",
       "    </tr>\n",
       "    <tr>\n",
       "      <th>n</th>\n",
       "      <td>4.34381</td>\n",
       "      <td>6.31716</td>\n",
       "      <td>4.57471</td>\n",
       "      <td>4.55388</td>\n",
       "      <td>5.89164</td>\n",
       "      <td>6.08677</td>\n",
       "      <td>6.84801</td>\n",
       "      <td>5.1299</td>\n",
       "      <td>4.56435</td>\n",
       "      <td>3.49651</td>\n",
       "      <td>...</td>\n",
       "      <td>5.88332</td>\n",
       "      <td>5.14749</td>\n",
       "      <td>6.48616</td>\n",
       "      <td>6.19441</td>\n",
       "      <td>6.42487</td>\n",
       "      <td>6.86171</td>\n",
       "      <td>5.1299</td>\n",
       "      <td>3.13549</td>\n",
       "      <td>6.63726</td>\n",
       "      <td>3.3673</td>\n",
       "    </tr>\n",
       "    <tr>\n",
       "      <th>n_s</th>\n",
       "      <td>0.40961</td>\n",
       "      <td>0.864007</td>\n",
       "      <td>0.46278</td>\n",
       "      <td>0.457982</td>\n",
       "      <td>0.766024</td>\n",
       "      <td>0.810956</td>\n",
       "      <td>0.986242</td>\n",
       "      <td>0.59062</td>\n",
       "      <td>0.460393</td>\n",
       "      <td>0.214506</td>\n",
       "      <td>...</td>\n",
       "      <td>0.764108</td>\n",
       "      <td>0.594672</td>\n",
       "      <td>0.902921</td>\n",
       "      <td>0.83574</td>\n",
       "      <td>0.888808</td>\n",
       "      <td>0.989398</td>\n",
       "      <td>0.59062</td>\n",
       "      <td>0.131377</td>\n",
       "      <td>0.937714</td>\n",
       "      <td>0.184753</td>\n",
       "    </tr>\n",
       "  </tbody>\n",
       "</table>\n",
       "<p>4 rows × 500 columns</p>\n",
       "</div>"
      ],
      "text/plain": [
       "           0         1        2         3         4          5         6    \\\n",
       "basis      psi      rmsd   phipsi    phipsi       phi  positions      rmsd   \n",
       "y      1.79637   1.70957  3.27798   3.28693   1.98877    3.29715   1.70869   \n",
       "n      4.34381   6.31716  4.57471   4.55388   5.89164    6.08677   6.84801   \n",
       "n_s    0.40961  0.864007  0.46278  0.457982  0.766024   0.810956  0.986242   \n",
       "\n",
       "           7         8          9    ...        490       491       492  \\\n",
       "basis      phi       psi  positions  ...  positions    phipsi    phipsi   \n",
       "y      1.98756   1.79831    3.16998  ...    3.31788   3.30056   3.29722   \n",
       "n       5.1299   4.56435    3.49651  ...    5.88332   5.14749   6.48616   \n",
       "n_s    0.59062  0.460393   0.214506  ...   0.764108  0.594672  0.902921   \n",
       "\n",
       "             493       494        495      496        497        498  \\\n",
       "basis  positions    phipsi  positions   phipsi  positions  positions   \n",
       "y        3.32348   3.29749    3.33242  3.31647    2.94608    3.31237   \n",
       "n        6.19441   6.42487    6.86171   5.1299    3.13549    6.63726   \n",
       "n_s      0.83574  0.888808   0.989398  0.59062   0.131377   0.937714   \n",
       "\n",
       "             499  \n",
       "basis  positions  \n",
       "y        3.08385  \n",
       "n         3.3673  \n",
       "n_s     0.184753  \n",
       "\n",
       "[4 rows x 500 columns]"
      ]
     },
     "execution_count": 3,
     "metadata": {},
     "output_type": "execute_result"
    }
   ],
   "source": [
    "to_log = ['n']\n",
    "for col in to_log: \n",
    "    df.loc[:, col] = np.log(df[col])\n",
    "\n",
    "to_scale = ['n']\n",
    "scaler = preprocessing.MinMaxScaler()\n",
    "vars_scaled = pd.DataFrame(scaler.fit_transform(df.loc[:, to_scale]), columns=[x+'_s' for x in to_scale])\n",
    "df = df.join(vars_scaled)\n",
    "df.T"
   ]
  },
  {
   "cell_type": "code",
   "execution_count": 4,
   "metadata": {},
   "outputs": [
    {
     "data": {
      "text/plain": [
       "<matplotlib.collections.PathCollection at 0x121712f60>"
      ]
     },
     "execution_count": 4,
     "metadata": {},
     "output_type": "execute_result"
    },
    {
     "data": {
      "image/png": "[encoded data removed]",
      "text/plain": [
       "<Figure size 432x288 with 1 Axes>"
      ]
     },
     "metadata": {
      "needs_background": "light"
     },
     "output_type": "display_data"
    }
   ],
   "source": [
    "x = df.loc[df['basis']=='phipsi', 'n_s']\n",
    "y = df.loc[df['basis']=='phipsi', 'y']\n",
    "plt.scatter(x, y)"
   ]
  },
  {
   "cell_type": "markdown",
   "metadata": {},
   "source": [
    "## Create design matrix"
   ]
  },
  {
   "cell_type": "code",
   "execution_count": 5,
   "metadata": {},
   "outputs": [],
   "source": [
    "y = df.loc[:, 'y']\n",
    "X = df.loc[:, df.columns.difference(['y'])]\n",
    "X_c = pt.dmatrix('~ 0 + n_s + C(basis)', data=df, return_type='dataframe')\n",
    "X_c = X_c.rename(columns=lambda x: re.sub('C|\\\\(|\\\\)|\\\\[|\\\\]','',x))"
   ]
  },
  {
   "cell_type": "markdown",
   "metadata": {},
   "source": [
    "## Model fitting functions"
   ]
  },
  {
   "cell_type": "code",
   "execution_count": 6,
   "metadata": {},
   "outputs": [],
   "source": [
    "def gamma(alpha, beta):\n",
    "    def g(x):\n",
    "        return pm.Gamma(x, alpha=alpha, beta=beta)\n",
    "    return g\n",
    "\n",
    "def hcauchy(beta):\n",
    "    def g(x):\n",
    "        return pm.HalfCauchy(x, beta=beta)\n",
    "    return g\n",
    "\n",
    "\n",
    "def fit_model_1(y, X, kernel_type='rbf'):\n",
    "    \"\"\"\n",
    "    function to return a pymc3 model\n",
    "    y : dependent variable\n",
    "    X : independent variables\n",
    "    prop_Xu : number of inducing varibles to use\n",
    "    \n",
    "    X, y are dataframes. We'll use the column names. \n",
    "    \"\"\"\n",
    "    with pm.Model() as model:\n",
    "        # Covert arrays\n",
    "        X_a = X.values\n",
    "        y_a = y.values\n",
    "        X_cols = list(X.columns)\n",
    "        \n",
    "        # Globals\n",
    "        prop_Xu = 0.1 # proportion of observations to use as inducing variables\n",
    "        l_prior = gamma(1, 0.05)\n",
    "        eta_prior = hcauchy(2)\n",
    "        sigma_prior = hcauchy(2)\n",
    "\n",
    "        # Kernels\n",
    "        # 3 way interaction\n",
    "        eta = eta_prior('eta')\n",
    "        cov = eta**2\n",
    "        for i in range(X_a.shape[1]):\n",
    "            var_lab = 'l_'+X_cols[i]\n",
    "            if kernel_type=='RBF':\n",
    "                cov = cov*pm.gp.cov.ExpQuad(X_a.shape[1], ls=l_prior(var_lab), active_dims=[i])\n",
    "            if kernel_type=='Exponential':\n",
    "                cov = cov*pm.gp.cov.Exponential(X_a.shape[1], ls=l_prior(var_lab), active_dims=[i])\n",
    "            if kernel_type=='M52':\n",
    "                cov = cov*pm.gp.cov.Matern52(X_a.shape[1], ls=l_prior(var_lab), active_dims=[i])\n",
    "            if kernel_type=='M32':\n",
    "                cov = cov*pm.gp.cov.Matern32(X_a.shape[1], ls=l_prior(var_lab), active_dims=[i])\n",
    "\n",
    "        # Covariance model\n",
    "        cov_tot = cov \n",
    "\n",
    "        # Model\n",
    "        gp = pm.gp.MarginalSparse(cov_func=cov_tot, approx=\"FITC\")\n",
    "\n",
    "        # Noise model\n",
    "        sigma_n =sigma_prior('sigma_n')\n",
    "\n",
    "        # Inducing variables\n",
    "        num_Xu = int(X_a.shape[0]*prop_Xu)\n",
    "        Xu = pm.gp.util.kmeans_inducing_points(num_Xu, X_a)\n",
    "\n",
    "        # Marginal likelihood\n",
    "        y_ = gp.marginal_likelihood('y_', X=X_a, y=y_a,Xu=Xu, noise=sigma_n)\n",
    "        mp = pm.find_MAP()\n",
    "        \n",
    "    return gp, mp, model"
   ]
  },
  {
   "cell_type": "markdown",
   "metadata": {},
   "source": [
    "## Main testing loop"
   ]
  },
  {
   "cell_type": "markdown",
   "metadata": {},
   "source": [
    "This will loop through the kernels to get cross - validated MSLL and SMSE.  Occaisionally a fold won't converge so the algo gets three attempt to restart ("
   ]
  },
  {
   "cell_type": "code",
   "execution_count": 7,
   "metadata": {
    "scrolled": false
   },
   "outputs": [
    {
     "name": "stdout",
     "output_type": "stream",
     "text": [
      "RBF\n",
      "\tfold: 0\n"
     ]
    },
    {
     "name": "stderr",
     "output_type": "stream",
     "text": [
      "WARNING (theano.gof.compilelock): Overriding existing lock by dead process '10587' (I am process '30102')\n",
      "/Users/robertarbon/opt/miniconda3/envs/analysis/lib/python3.6/site-packages/theano/tensor/basic.py:6611: FutureWarning: Using a non-tuple sequence for multidimensional indexing is deprecated; use `arr[tuple(seq)]` instead of `arr[seq]`. In the future this will be interpreted as an array index, `arr[np.array(seq)]`, which will result either in an error or a different result.\n",
      "  result[diagonal_slice] = x\n",
      "/Users/robertarbon/opt/miniconda3/envs/analysis/lib/python3.6/site-packages/theano/tensor/basic.py:6611: FutureWarning: Using a non-tuple sequence for multidimensional indexing is deprecated; use `arr[tuple(seq)]` instead of `arr[seq]`. In the future this will be interpreted as an array index, `arr[np.array(seq)]`, which will result either in an error or a different result.\n",
      "  result[diagonal_slice] = x\n",
      "/Users/robertarbon/opt/miniconda3/envs/analysis/lib/python3.6/site-packages/theano/tensor/basic.py:6611: FutureWarning: Using a non-tuple sequence for multidimensional indexing is deprecated; use `arr[tuple(seq)]` instead of `arr[seq]`. In the future this will be interpreted as an array index, `arr[np.array(seq)]`, which will result either in an error or a different result.\n",
      "  result[diagonal_slice] = x\n",
      "/Users/robertarbon/opt/miniconda3/envs/analysis/lib/python3.6/site-packages/theano/tensor/basic.py:6611: FutureWarning: Using a non-tuple sequence for multidimensional indexing is deprecated; use `arr[tuple(seq)]` instead of `arr[seq]`. In the future this will be interpreted as an array index, `arr[np.array(seq)]`, which will result either in an error or a different result.\n",
      "  result[diagonal_slice] = x\n",
      "/Users/robertarbon/opt/miniconda3/envs/analysis/lib/python3.6/site-packages/theano/tensor/basic.py:6611: FutureWarning: Using a non-tuple sequence for multidimensional indexing is deprecated; use `arr[tuple(seq)]` instead of `arr[seq]`. In the future this will be interpreted as an array index, `arr[np.array(seq)]`, which will result either in an error or a different result.\n",
      "  result[diagonal_slice] = x\n",
      "/Users/robertarbon/opt/miniconda3/envs/analysis/lib/python3.6/site-packages/theano/tensor/basic.py:6611: FutureWarning: Using a non-tuple sequence for multidimensional indexing is deprecated; use `arr[tuple(seq)]` instead of `arr[seq]`. In the future this will be interpreted as an array index, `arr[np.array(seq)]`, which will result either in an error or a different result.\n",
      "  result[diagonal_slice] = x\n",
      "/Users/robertarbon/opt/miniconda3/envs/analysis/lib/python3.6/site-packages/theano/tensor/basic.py:6611: FutureWarning: Using a non-tuple sequence for multidimensional indexing is deprecated; use `arr[tuple(seq)]` instead of `arr[seq]`. In the future this will be interpreted as an array index, `arr[np.array(seq)]`, which will result either in an error or a different result.\n",
      "  result[diagonal_slice] = x\n",
      "  0%|          | 0/5000 [00:00<?, ?it/s]/Users/robertarbon/opt/miniconda3/envs/analysis/lib/python3.6/site-packages/theano/tensor/basic.py:6611: FutureWarning: Using a non-tuple sequence for multidimensional indexing is deprecated; use `arr[tuple(seq)]` instead of `arr[seq]`. In the future this will be interpreted as an array index, `arr[np.array(seq)]`, which will result either in an error or a different result.\n",
      "  result[diagonal_slice] = x\n",
      "logp = 1,329.3, ||grad|| = 0.17663: 100%|██████████| 60/60 [00:00<00:00, 64.58it/s]  \n"
     ]
    },
    {
     "name": "stdout",
     "output_type": "stream",
     "text": [
      "\tfold: 1\n"
     ]
    },
    {
     "name": "stderr",
     "output_type": "stream",
     "text": [
      "/Users/robertarbon/opt/miniconda3/envs/analysis/lib/python3.6/site-packages/theano/tensor/basic.py:6611: FutureWarning: Using a non-tuple sequence for multidimensional indexing is deprecated; use `arr[tuple(seq)]` instead of `arr[seq]`. In the future this will be interpreted as an array index, `arr[np.array(seq)]`, which will result either in an error or a different result.\n",
      "  result[diagonal_slice] = x\n",
      "logp = 1,244.6, ||grad|| = 0.006564: 100%|██████████| 62/62 [00:00<00:00, 107.01it/s]  \n"
     ]
    },
    {
     "name": "stdout",
     "output_type": "stream",
     "text": [
      "\tfold: 2\n"
     ]
    },
    {
     "name": "stderr",
     "output_type": "stream",
     "text": [
      "logp = 1,244.9, ||grad|| = 0.19627: 100%|██████████| 45/45 [00:00<00:00, 104.47it/s]  \n"
     ]
    },
    {
     "name": "stdout",
     "output_type": "stream",
     "text": [
      "\tfold: 3\n"
     ]
    },
    {
     "name": "stderr",
     "output_type": "stream",
     "text": [
      "logp = 1,323.7, ||grad|| = 0.044071: 100%|██████████| 65/65 [00:00<00:00, 108.84it/s]       \n"
     ]
    },
    {
     "name": "stdout",
     "output_type": "stream",
     "text": [
      "\tfold: 4\n"
     ]
    },
    {
     "name": "stderr",
     "output_type": "stream",
     "text": [
      "logp = 1,298.5, ||grad|| = 0.090352: 100%|██████████| 56/56 [00:00<00:00, 97.46it/s]  \n"
     ]
    },
    {
     "name": "stdout",
     "output_type": "stream",
     "text": [
      "\tfold: 5\n"
     ]
    },
    {
     "name": "stderr",
     "output_type": "stream",
     "text": [
      "logp = 1,056.5, ||grad|| = 178.83:   0%|          | 22/5000 [00:00<02:06, 39.34it/s]\n"
     ]
    },
    {
     "name": "stdout",
     "output_type": "stream",
     "text": [
      "\tfold: 0\n"
     ]
    },
    {
     "name": "stderr",
     "output_type": "stream",
     "text": [
      "/Users/robertarbon/opt/miniconda3/envs/analysis/lib/python3.6/site-packages/theano/tensor/basic.py:6611: FutureWarning: Using a non-tuple sequence for multidimensional indexing is deprecated; use `arr[tuple(seq)]` instead of `arr[seq]`. In the future this will be interpreted as an array index, `arr[np.array(seq)]`, which will result either in an error or a different result.\n",
      "  result[diagonal_slice] = x\n",
      "logp = 1,313, ||grad|| = 0.028794: 100%|██████████| 63/63 [00:00<00:00, 86.89it/s]    \n"
     ]
    },
    {
     "name": "stdout",
     "output_type": "stream",
     "text": [
      "\tfold: 1\n"
     ]
    },
    {
     "name": "stderr",
     "output_type": "stream",
     "text": [
      "logp = 1,244.4, ||grad|| = 0.0093812: 100%|██████████| 63/63 [00:00<00:00, 105.47it/s]  \n"
     ]
    },
    {
     "name": "stdout",
     "output_type": "stream",
     "text": [
      "\tfold: 2\n"
     ]
    },
    {
     "name": "stderr",
     "output_type": "stream",
     "text": [
      "logp = 1,239.2, ||grad|| = 34.452: 100%|██████████| 295/295 [00:03<00:00, 87.04it/s]  \n"
     ]
    },
    {
     "name": "stdout",
     "output_type": "stream",
     "text": [
      "\tfold: 3\n"
     ]
    },
    {
     "name": "stderr",
     "output_type": "stream",
     "text": [
      "logp = 1,325.2, ||grad|| = 0.016906: 100%|██████████| 62/62 [00:00<00:00, 105.36it/s]  \n"
     ]
    },
    {
     "name": "stdout",
     "output_type": "stream",
     "text": [
      "\tfold: 4\n"
     ]
    },
    {
     "name": "stderr",
     "output_type": "stream",
     "text": [
      "logp = 1,297.4, ||grad|| = 0.6089: 100%|██████████| 56/56 [00:00<00:00, 93.12it/s]   \n"
     ]
    },
    {
     "name": "stdout",
     "output_type": "stream",
     "text": [
      "\tfold: 5\n"
     ]
    },
    {
     "name": "stderr",
     "output_type": "stream",
     "text": [
      "logp = 1,286.1, ||grad|| = 0.017637: 100%|██████████| 73/73 [00:00<00:00, 78.90it/s]  \n"
     ]
    },
    {
     "name": "stdout",
     "output_type": "stream",
     "text": [
      "\tfold: 6\n"
     ]
    },
    {
     "name": "stderr",
     "output_type": "stream",
     "text": [
      "logp = 1,271, ||grad|| = 0.042828: 100%|██████████| 66/66 [00:00<00:00, 109.85it/s]  \n"
     ]
    },
    {
     "name": "stdout",
     "output_type": "stream",
     "text": [
      "\tfold: 7\n"
     ]
    },
    {
     "name": "stderr",
     "output_type": "stream",
     "text": [
      "logp = 1,307.4, ||grad|| = 0.01912: 100%|██████████| 74/74 [00:01<00:00, 61.94it/s]  \n"
     ]
    },
    {
     "name": "stdout",
     "output_type": "stream",
     "text": [
      "\tfold: 8\n"
     ]
    },
    {
     "name": "stderr",
     "output_type": "stream",
     "text": [
      "logp = 1,308, ||grad|| = 0.014383: 100%|██████████| 62/62 [00:00<00:00, 80.03it/s]  \n"
     ]
    },
    {
     "name": "stdout",
     "output_type": "stream",
     "text": [
      "\tfold: 9\n"
     ]
    },
    {
     "name": "stderr",
     "output_type": "stream",
     "text": [
      "logp = 1,307.4, ||grad|| = 0.048283: 100%|██████████| 69/69 [00:00<00:00, 78.61it/s]  \n"
     ]
    },
    {
     "name": "stdout",
     "output_type": "stream",
     "text": [
      "M52\n",
      "\tfold: 0\n"
     ]
    },
    {
     "name": "stderr",
     "output_type": "stream",
     "text": [
      "/Users/robertarbon/opt/miniconda3/envs/analysis/lib/python3.6/site-packages/theano/tensor/basic.py:6611: FutureWarning: Using a non-tuple sequence for multidimensional indexing is deprecated; use `arr[tuple(seq)]` instead of `arr[seq]`. In the future this will be interpreted as an array index, `arr[np.array(seq)]`, which will result either in an error or a different result.\n",
      "  result[diagonal_slice] = x\n",
      "/Users/robertarbon/opt/miniconda3/envs/analysis/lib/python3.6/site-packages/theano/tensor/basic.py:6611: FutureWarning: Using a non-tuple sequence for multidimensional indexing is deprecated; use `arr[tuple(seq)]` instead of `arr[seq]`. In the future this will be interpreted as an array index, `arr[np.array(seq)]`, which will result either in an error or a different result.\n",
      "  result[diagonal_slice] = x\n",
      "  0%|          | 0/5000 [00:00<?, ?it/s]/Users/robertarbon/opt/miniconda3/envs/analysis/lib/python3.6/site-packages/theano/tensor/basic.py:6611: FutureWarning: Using a non-tuple sequence for multidimensional indexing is deprecated; use `arr[tuple(seq)]` instead of `arr[seq]`. In the future this will be interpreted as an array index, `arr[np.array(seq)]`, which will result either in an error or a different result.\n",
      "  result[diagonal_slice] = x\n",
      "logp = 1,333.6, ||grad|| = 0.052627: 100%|██████████| 116/116 [00:03<00:00, 37.21it/s] \n"
     ]
    },
    {
     "name": "stdout",
     "output_type": "stream",
     "text": [
      "\tfold: 1\n"
     ]
    },
    {
     "name": "stderr",
     "output_type": "stream",
     "text": [
      "logp = 1,321.8, ||grad|| = 0.14287: 100%|██████████| 58/58 [00:01<00:00, 57.99it/s]  \n"
     ]
    },
    {
     "name": "stdout",
     "output_type": "stream",
     "text": [
      "\tfold: 2\n"
     ]
    },
    {
     "name": "stderr",
     "output_type": "stream",
     "text": [
      "logp = 1,342.7, ||grad|| = 0.376: 100%|██████████| 89/89 [00:01<00:00, 63.63it/s]    \n"
     ]
    },
    {
     "name": "stdout",
     "output_type": "stream",
     "text": [
      "\tfold: 3\n"
     ]
    },
    {
     "name": "stderr",
     "output_type": "stream",
     "text": [
      "logp = 1,323, ||grad|| = 0.04486: 100%|██████████| 79/79 [00:01<00:00, 50.69it/s]   \n"
     ]
    },
    {
     "name": "stdout",
     "output_type": "stream",
     "text": [
      "\tfold: 4\n"
     ]
    },
    {
     "name": "stderr",
     "output_type": "stream",
     "text": [
      "logp = 1,331.6, ||grad|| = 0.15677: 100%|██████████| 81/81 [00:01<00:00, 56.83it/s]  \n"
     ]
    },
    {
     "name": "stdout",
     "output_type": "stream",
     "text": [
      "\tfold: 5\n"
     ]
    },
    {
     "name": "stderr",
     "output_type": "stream",
     "text": [
      "logp = 1,313.3, ||grad|| = 0.066471: 100%|██████████| 82/82 [00:01<00:00, 66.14it/s]  \n"
     ]
    },
    {
     "name": "stdout",
     "output_type": "stream",
     "text": [
      "\tfold: 6\n"
     ]
    },
    {
     "name": "stderr",
     "output_type": "stream",
     "text": [
      "logp = 1,353.2, ||grad|| = 0.003182: 100%|██████████| 52/52 [00:00<00:00, 59.46it/s]  \n"
     ]
    },
    {
     "name": "stdout",
     "output_type": "stream",
     "text": [
      "\tfold: 7\n"
     ]
    },
    {
     "name": "stderr",
     "output_type": "stream",
     "text": [
      "logp = 1,328.2, ||grad|| = 0.053146: 100%|██████████| 66/66 [00:01<00:00, 54.15it/s]  \n"
     ]
    },
    {
     "name": "stdout",
     "output_type": "stream",
     "text": [
      "\tfold: 8\n"
     ]
    },
    {
     "name": "stderr",
     "output_type": "stream",
     "text": [
      "logp = 1,325.7, ||grad|| = 0.025081: 100%|██████████| 83/83 [00:01<00:00, 59.29it/s]  \n"
     ]
    },
    {
     "name": "stdout",
     "output_type": "stream",
     "text": [
      "\tfold: 9\n"
     ]
    },
    {
     "name": "stderr",
     "output_type": "stream",
     "text": [
      "logp = 1,347.4, ||grad|| = 0.28135: 100%|██████████| 66/66 [00:01<00:00, 51.46it/s]  \n"
     ]
    },
    {
     "name": "stdout",
     "output_type": "stream",
     "text": [
      "M32\n",
      "\tfold: 0\n"
     ]
    },
    {
     "name": "stderr",
     "output_type": "stream",
     "text": [
      "/Users/robertarbon/opt/miniconda3/envs/analysis/lib/python3.6/site-packages/theano/tensor/basic.py:6611: FutureWarning: Using a non-tuple sequence for multidimensional indexing is deprecated; use `arr[tuple(seq)]` instead of `arr[seq]`. In the future this will be interpreted as an array index, `arr[np.array(seq)]`, which will result either in an error or a different result.\n",
      "  result[diagonal_slice] = x\n",
      "  0%|          | 0/5000 [00:00<?, ?it/s]/Users/robertarbon/opt/miniconda3/envs/analysis/lib/python3.6/site-packages/theano/tensor/basic.py:6611: FutureWarning: Using a non-tuple sequence for multidimensional indexing is deprecated; use `arr[tuple(seq)]` instead of `arr[seq]`. In the future this will be interpreted as an array index, `arr[np.array(seq)]`, which will result either in an error or a different result.\n",
      "  result[diagonal_slice] = x\n",
      "logp = 1,339.7, ||grad|| = 0.18072: 100%|██████████| 70/70 [00:01<00:00, 60.86it/s]  \n"
     ]
    },
    {
     "name": "stdout",
     "output_type": "stream",
     "text": [
      "\tfold: 1\n"
     ]
    },
    {
     "name": "stderr",
     "output_type": "stream",
     "text": [
      "logp = 1,326.7, ||grad|| = 0.010916: 100%|██████████| 80/80 [00:01<00:00, 63.70it/s]  \n"
     ]
    },
    {
     "name": "stdout",
     "output_type": "stream",
     "text": [
      "\tfold: 2\n"
     ]
    },
    {
     "name": "stderr",
     "output_type": "stream",
     "text": [
      "logp = 1,320.9, ||grad|| = 0.70329: 100%|██████████| 49/49 [00:00<00:00, 68.13it/s]  \n"
     ]
    },
    {
     "name": "stdout",
     "output_type": "stream",
     "text": [
      "\tfold: 3\n"
     ]
    },
    {
     "name": "stderr",
     "output_type": "stream",
     "text": [
      "logp = 1,317.5, ||grad|| = 0.08035: 100%|██████████| 41/41 [00:00<00:00, 65.36it/s]  \n"
     ]
    },
    {
     "name": "stdout",
     "output_type": "stream",
     "text": [
      "\tfold: 4\n"
     ]
    },
    {
     "name": "stderr",
     "output_type": "stream",
     "text": [
      "logp = 1,310, ||grad|| = 0.30234: 100%|██████████| 50/50 [00:00<00:00, 63.05it/s]   \n"
     ]
    },
    {
     "name": "stdout",
     "output_type": "stream",
     "text": [
      "\tfold: 5\n"
     ]
    },
    {
     "name": "stderr",
     "output_type": "stream",
     "text": [
      "logp = 1,290.6, ||grad|| = 0.44573: 100%|██████████| 41/41 [00:00<00:00, 68.58it/s]  \n"
     ]
    },
    {
     "name": "stdout",
     "output_type": "stream",
     "text": [
      "\tfold: 6\n"
     ]
    },
    {
     "name": "stderr",
     "output_type": "stream",
     "text": [
      "logp = 1,320.6, ||grad|| = 0.070957: 100%|██████████| 84/84 [00:01<00:00, 58.86it/s]  \n"
     ]
    },
    {
     "name": "stdout",
     "output_type": "stream",
     "text": [
      "\tfold: 7\n"
     ]
    },
    {
     "name": "stderr",
     "output_type": "stream",
     "text": [
      "logp = 1,322.1, ||grad|| = 0.18479: 100%|██████████| 55/55 [00:01<00:00, 53.07it/s]  \n"
     ]
    },
    {
     "name": "stdout",
     "output_type": "stream",
     "text": [
      "\tfold: 8\n"
     ]
    },
    {
     "name": "stderr",
     "output_type": "stream",
     "text": [
      "logp = 1,324, ||grad|| = 0.35389: 100%|██████████| 78/78 [00:01<00:00, 56.96it/s]   \n"
     ]
    },
    {
     "name": "stdout",
     "output_type": "stream",
     "text": [
      "\tfold: 9\n"
     ]
    },
    {
     "name": "stderr",
     "output_type": "stream",
     "text": [
      "logp = 1,340.5, ||grad|| = 0.10576: 100%|██████████| 85/85 [00:01<00:00, 64.71it/s]  \n"
     ]
    },
    {
     "name": "stdout",
     "output_type": "stream",
     "text": [
      "Exponential\n",
      "\tfold: 0\n"
     ]
    },
    {
     "name": "stderr",
     "output_type": "stream",
     "text": [
      "/Users/robertarbon/opt/miniconda3/envs/analysis/lib/python3.6/site-packages/theano/tensor/basic.py:6611: FutureWarning: Using a non-tuple sequence for multidimensional indexing is deprecated; use `arr[tuple(seq)]` instead of `arr[seq]`. In the future this will be interpreted as an array index, `arr[np.array(seq)]`, which will result either in an error or a different result.\n",
      "  result[diagonal_slice] = x\n",
      "  0%|          | 0/5000 [00:00<?, ?it/s]/Users/robertarbon/opt/miniconda3/envs/analysis/lib/python3.6/site-packages/theano/tensor/basic.py:6611: FutureWarning: Using a non-tuple sequence for multidimensional indexing is deprecated; use `arr[tuple(seq)]` instead of `arr[seq]`. In the future this will be interpreted as an array index, `arr[np.array(seq)]`, which will result either in an error or a different result.\n",
      "  result[diagonal_slice] = x\n",
      "logp = 1,279.7, ||grad|| = 0.79774: 100%|██████████| 31/31 [00:00<00:00, 72.57it/s]  \n"
     ]
    },
    {
     "name": "stdout",
     "output_type": "stream",
     "text": [
      "\tfold: 1\n"
     ]
    },
    {
     "name": "stderr",
     "output_type": "stream",
     "text": [
      "logp = 1,243.5, ||grad|| = 0.088535: 100%|██████████| 50/50 [00:00<00:00, 81.10it/s]  \n"
     ]
    },
    {
     "name": "stdout",
     "output_type": "stream",
     "text": [
      "\tfold: 2\n"
     ]
    },
    {
     "name": "stderr",
     "output_type": "stream",
     "text": [
      "logp = 1,220.3, ||grad|| = 0.13338: 100%|██████████| 49/49 [00:01<00:00, 41.74it/s]  \n"
     ]
    },
    {
     "name": "stdout",
     "output_type": "stream",
     "text": [
      "\tfold: 3\n"
     ]
    },
    {
     "name": "stderr",
     "output_type": "stream",
     "text": [
      "logp = 1,206, ||grad|| = 0.24638: 100%|██████████| 40/40 [00:00<00:00, 84.59it/s]   \n"
     ]
    },
    {
     "name": "stdout",
     "output_type": "stream",
     "text": [
      "\tfold: 4\n"
     ]
    },
    {
     "name": "stderr",
     "output_type": "stream",
     "text": [
      "logp = 1,276.2, ||grad|| = 0.35217: 100%|██████████| 45/45 [00:00<00:00, 76.92it/s]  \n"
     ]
    },
    {
     "name": "stdout",
     "output_type": "stream",
     "text": [
      "\tfold: 5\n"
     ]
    },
    {
     "name": "stderr",
     "output_type": "stream",
     "text": [
      "logp = 1,203.6, ||grad|| = 0.18935: 100%|██████████| 40/40 [00:00<00:00, 84.54it/s]  \n"
     ]
    },
    {
     "name": "stdout",
     "output_type": "stream",
     "text": [
      "\tfold: 6\n"
     ]
    },
    {
     "name": "stderr",
     "output_type": "stream",
     "text": [
      "logp = 1,235.6, ||grad|| = 0.23059: 100%|██████████| 57/57 [00:00<00:00, 81.63it/s]  \n"
     ]
    },
    {
     "name": "stdout",
     "output_type": "stream",
     "text": [
      "\tfold: 7\n"
     ]
    },
    {
     "name": "stderr",
     "output_type": "stream",
     "text": [
      "logp = 1,231.1, ||grad|| = 0.17443: 100%|██████████| 49/49 [00:00<00:00, 56.02it/s]  \n"
     ]
    },
    {
     "name": "stdout",
     "output_type": "stream",
     "text": [
      "\tfold: 8\n"
     ]
    },
    {
     "name": "stderr",
     "output_type": "stream",
     "text": [
      "logp = 1,225.3, ||grad|| = 0.0092721: 100%|██████████| 74/74 [00:00<00:00, 84.75it/s]  \n"
     ]
    },
    {
     "name": "stdout",
     "output_type": "stream",
     "text": [
      "\tfold: 9\n"
     ]
    },
    {
     "name": "stderr",
     "output_type": "stream",
     "text": [
      "logp = 1,274.1, ||grad|| = 0.87006: 100%|██████████| 47/47 [00:00<00:00, 79.13it/s]  \n"
     ]
    }
   ],
   "source": [
    "# Inputs\n",
    "kernels =  ['RBF', 'M52', 'M32', 'Exponential' ]\n",
    "\n",
    "# Outputs\n",
    "pred_dfs = []\n",
    "\n",
    "# iterator\n",
    "max_restarts = 3\n",
    "for i in range(len(kernels)):\n",
    "    print(kernels[i])\n",
    "    \n",
    "    converged = False\n",
    "    n_restarts = 0\n",
    "    while (not converged) and (n_restarts < max_restarts):\n",
    "        \n",
    "        # instantiate a new cv-er to ensure folds are different each loop through. \n",
    "        kf = StratifiedKFold(n_splits=10)\n",
    "        \n",
    "        # loop through folds\n",
    "        for idx, (train_idx, test_idx) in enumerate(kf.split(X.values, X['basis'])):\n",
    "            print('\\tfold: {}'.format(idx))\n",
    "            \n",
    "            # subset dataframes for training and testin\n",
    "            y_train = y.iloc[train_idx]\n",
    "            X_train = X_c.iloc[train_idx, :]\n",
    "\n",
    "            y_test = y.iloc[test_idx]\n",
    "            X_test = X_c.iloc[test_idx, :]  \n",
    "            \n",
    "            try: \n",
    "                # Fit gp model\n",
    "                gp, mp, model = fit_model_1(y=y_train, X=X_train, kernel_type=kernels[i])\n",
    "                \n",
    "                # Get predictions \n",
    "                with model:\n",
    "                    # predict latent\n",
    "                    mu, var = gp.predict(X_test.values, point=mp, diag=True,pred_noise=False)\n",
    "                    sd_f = np.sqrt(var)\n",
    "\n",
    "                    # predict target (includes noise)\n",
    "                    _, var = gp.predict(X_test.values, point=mp, diag=True,pred_noise=True)\n",
    "                    sd_y = np.sqrt(var)\n",
    "                    \n",
    "                # log results    \n",
    "                res = pd.DataFrame({'f_pred': mu, 'sd_f': sd_f, 'sd_y': sd_y, 'y': y_test.values})\n",
    "                res.loc[:, 'kernel'] = kernels[i]\n",
    "                res.loc[:, 'fold_num'] = idx\n",
    "\n",
    "                pred_dfs.append(pd.concat([X_test.reset_index(), res.reset_index()], axis=1))\n",
    "            \n",
    "            except: \n",
    "                # break without possibility of reaching convergence\n",
    "                n_restarts += 1\n",
    "                \n",
    "                break\n",
    "\n",
    "            # convergence criterion - must have got this far on the last fold: \n",
    "            if idx == kf.n_splits-1:\n",
    "                converged = True\n",
    "        \n",
    "\n",
    "pred_dfs = pd.concat(pred_dfs)"
   ]
  },
  {
   "cell_type": "markdown",
   "metadata": {},
   "source": [
    "## Evaluate kernels"
   ]
  },
  {
   "cell_type": "code",
   "execution_count": 8,
   "metadata": {},
   "outputs": [],
   "source": [
    "def ll(f_pred, sigma_pred, y_true):\n",
    "    # log predictive density\n",
    "    tmp = 0.5*np.log(2*np.pi*sigma_pred**2)\n",
    "    tmp += (f_pred-y_true)**2/(2*sigma_pred**2)\n",
    "    return tmp\n",
    "\n",
    "null_mu = np.mean(y)\n",
    "null_sd = np.std(y)\n",
    "\n",
    "sll = ll(pred_dfs['f_pred'], pred_dfs['sd_y'], pred_dfs['y'])\n",
    "sll = sll - ll(null_mu, null_sd, pred_dfs['y'])\n",
    "pred_dfs['msll'] = sll\n",
    "pred_dfs['smse'] = (pred_dfs['f_pred']-pred_dfs['y'])**2/np.var(y)\n",
    "pred_dfs.to_pickle('outputs/kernel_cv_fits_logged.p')\n",
    "\n",
    "msll = pred_dfs.groupby(['kernel'])['msll'].mean()\n",
    "smse = pred_dfs.groupby(['kernel'])['smse'].mean()\n",
    "\n",
    "summary = pd.DataFrame(smse).join(other=pd.DataFrame(msll), on=['kernel'], how='left')\n",
    "summary.to_csv('outputs/kernel_cv_fits_logged_summary.csv')"
   ]
  },
  {
   "cell_type": "code",
   "execution_count": 10,
   "metadata": {},
   "outputs": [
    {
     "data": {
      "text/html": [
       "<div>\n",
       "<style scoped>\n",
       "    .dataframe tbody tr th:only-of-type {\n",
       "        vertical-align: middle;\n",
       "    }\n",
       "\n",
       "    .dataframe tbody tr th {\n",
       "        vertical-align: top;\n",
       "    }\n",
       "\n",
       "    .dataframe thead th {\n",
       "        text-align: right;\n",
       "    }\n",
       "</style>\n",
       "<table border=\"1\" class=\"dataframe\">\n",
       "  <thead>\n",
       "    <tr style=\"text-align: right;\">\n",
       "      <th></th>\n",
       "      <th>smse</th>\n",
       "      <th>msll</th>\n",
       "    </tr>\n",
       "    <tr>\n",
       "      <th>kernel</th>\n",
       "      <th></th>\n",
       "      <th></th>\n",
       "    </tr>\n",
       "  </thead>\n",
       "  <tbody>\n",
       "    <tr>\n",
       "      <th>Exponential</th>\n",
       "      <td>0.001238</td>\n",
       "      <td>-3.996293</td>\n",
       "    </tr>\n",
       "    <tr>\n",
       "      <th>M32</th>\n",
       "      <td>0.000993</td>\n",
       "      <td>-4.171170</td>\n",
       "    </tr>\n",
       "    <tr>\n",
       "      <th>M52</th>\n",
       "      <td>0.000678</td>\n",
       "      <td>-4.236903</td>\n",
       "    </tr>\n",
       "    <tr>\n",
       "      <th>RBF</th>\n",
       "      <td>0.001077</td>\n",
       "      <td>-4.089169</td>\n",
       "    </tr>\n",
       "  </tbody>\n",
       "</table>\n",
       "</div>"
      ],
      "text/plain": [
       "                 smse      msll\n",
       "kernel                         \n",
       "Exponential  0.001238 -3.996293\n",
       "M32          0.000993 -4.171170\n",
       "M52          0.000678 -4.236903\n",
       "RBF          0.001077 -4.089169"
      ]
     },
     "execution_count": 10,
     "metadata": {},
     "output_type": "execute_result"
    }
   ],
   "source": [
    "summary"
   ]
  },
  {
   "cell_type": "code",
   "execution_count": null,
   "metadata": {},
   "outputs": [],
   "source": []
  }
 ],
 "metadata": {
  "kernelspec": {
   "display_name": "Python 3",
   "language": "python",
   "name": "python3"
  },
  "language_info": {
   "codemirror_mode": {
    "name": "ipython",
    "version": 3
   },
   "file_extension": ".py",
   "mimetype": "text/x-python",
   "name": "python",
   "nbconvert_exporter": "python",
   "pygments_lexer": "ipython3",
   "version": "3.6.10"
  }
 },
 "nbformat": 4,
 "nbformat_minor": 4
}
