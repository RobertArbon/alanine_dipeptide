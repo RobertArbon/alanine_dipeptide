{
 "cells": [
  {
   "cell_type": "code",
   "execution_count": 21,
   "metadata": {},
   "outputs": [],
   "source": [
    "import pandas as pd\n",
    "import patsy as pt\n",
    "import numpy as np\n",
    "import seaborn as sns\n",
    "import matplotlib.pyplot as plt\n",
    "from sklearn import preprocessing\n",
    "import pymc3 as pm\n",
    "import matplotlib.ticker as tk\n",
    "import re\n",
    "import pickle\n",
    "from scipy.stats import norm\n",
    "from collections import OrderedDict\n"
   ]
  },
  {
   "cell_type": "markdown",
   "metadata": {},
   "source": [
    "# Load Optimisation Trajectories"
   ]
  },
  {
   "cell_type": "code",
   "execution_count": 22,
   "metadata": {},
   "outputs": [],
   "source": [
    "root_dir = '/Users/robertarbon/OneDrive - University of Bristol/Research/optimize_msms/Ala1/'\n",
    "data_dir = root_dir+'outputs/bayes_opt_gp_m52/'\n",
    "exp_pref = data_dir + 'start_obs-50_iter-{0}_'\n",
    "\n",
    "dss = ['trials', 'candidates', 'incumbents', 'response_surface']\n",
    "n_iter = 5\n",
    "ds_dict = {}\n",
    "for ds in dss:\n",
    "\n",
    "        df  = pd.read_csv((exp_pref+'{1}.csv').format(n_iter-1, ds))\n",
    "        all_dfs = []\n",
    "        for i in range(n_iter):\n",
    "            df  = pd.read_csv((exp_pref+'{1}.csv').format(i, ds))\n",
    "            df['iteration'] = i\n",
    "            all_dfs.append(df)\n",
    "        df = pd.concat(all_dfs)\n",
    "        ds_dict[ds] = df\n",
    "\n",
    "    \n",
    "trials = ds_dict['trials']\n",
    "incumb = ds_dict['incumbents']\n",
    "candid = ds_dict['candidates']\n",
    "surf = ds_dict['response_surface']\n"
   ]
  },
  {
   "cell_type": "markdown",
   "metadata": {},
   "source": [
    "I forgot to label the trajectory as 'random' or 'Bayes' according to how the values were selected. The random sampling stopped at step 30. "
   ]
  },
  {
   "cell_type": "code",
   "execution_count": 23,
   "metadata": {},
   "outputs": [],
   "source": [
    "for df in [surf, incumb, candid]:\n",
    "    df['method'] = df['n_obs'].apply(lambda x: 'random' if x<=50 else 'Bayes')\n",
    "    "
   ]
  },
  {
   "cell_type": "markdown",
   "metadata": {},
   "source": [
    "The response surface needs sorting by iteration"
   ]
  },
  {
   "cell_type": "code",
   "execution_count": 24,
   "metadata": {},
   "outputs": [],
   "source": [
    "surf = surf.sort_values(by=['iteration', 'n_obs', 'basis', 'n'])\n"
   ]
  },
  {
   "cell_type": "markdown",
   "metadata": {},
   "source": [
    "## Save aggregated data"
   ]
  },
  {
   "cell_type": "code",
   "execution_count": 25,
   "metadata": {},
   "outputs": [],
   "source": [
    "surf.to_csv(data_dir + 'response_surface_all.csv', index=False)\n",
    "trials.to_csv(data_dir + 'trials_all.csv', index=False)\n",
    "incumb.to_csv(data_dir + 'incumbents_all.csv', index=False)\n",
    "candid.to_csv(data_dir + 'candidates_all.csv', index=False)"
   ]
  },
  {
   "cell_type": "code",
   "execution_count": null,
   "metadata": {},
   "outputs": [],
   "source": []
  }
 ],
 "metadata": {
  "kernelspec": {
   "display_name": "Python 3",
   "language": "python",
   "name": "python3"
  },
  "language_info": {
   "codemirror_mode": {
    "name": "ipython",
    "version": 3
   },
   "file_extension": ".py",
   "mimetype": "text/x-python",
   "name": "python",
   "nbconvert_exporter": "python",
   "pygments_lexer": "ipython3",
   "version": "3.6.10"
  }
 },
 "nbformat": 4,
 "nbformat_minor": 4
}
