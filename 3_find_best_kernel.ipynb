{
 "cells": [
  {
   "cell_type": "code",
   "execution_count": 18,
   "metadata": {},
   "outputs": [],
   "source": [
    "import pandas as pd\n",
    "import patsy as pt\n",
    "import numpy as np\n",
    "import seaborn as sns\n",
    "import matplotlib.pyplot as plt\n",
    "from sklearn import preprocessing\n",
    "%matplotlib inline\n",
    "import re\n",
    "import pymc3 as pm\n",
    "import matplotlib.ticker as tk\n",
    "import re\n",
    "from sklearn.model_selection import StratifiedKFold\n",
    "import pickle"
   ]
  },
  {
   "cell_type": "markdown",
   "metadata": {},
   "source": [
    "## Import data"
   ]
  },
  {
   "cell_type": "code",
   "execution_count": 4,
   "metadata": {},
   "outputs": [],
   "source": [
    "df = pd.read_csv('outputs/ala1_trials_clean.csv')\n",
    "df = df.rename(columns={'project_name': 'basis', 'cluster__n_clusters': 'n', 'test_mean': 'y'}).\\\n",
    "loc[:, ['basis', 'y', 'n']]"
   ]
  },
  {
   "cell_type": "markdown",
   "metadata": {},
   "source": [
    "## Scale predictors\n"
   ]
  },
  {
   "cell_type": "code",
   "execution_count": 6,
   "metadata": {},
   "outputs": [
    {
     "data": {
      "text/html": [
       "<div>\n",
       "<style scoped>\n",
       "    .dataframe tbody tr th:only-of-type {\n",
       "        vertical-align: middle;\n",
       "    }\n",
       "\n",
       "    .dataframe tbody tr th {\n",
       "        vertical-align: top;\n",
       "    }\n",
       "\n",
       "    .dataframe thead th {\n",
       "        text-align: right;\n",
       "    }\n",
       "</style>\n",
       "<table border=\"1\" class=\"dataframe\">\n",
       "  <thead>\n",
       "    <tr style=\"text-align: right;\">\n",
       "      <th></th>\n",
       "      <th>0</th>\n",
       "      <th>1</th>\n",
       "      <th>2</th>\n",
       "      <th>3</th>\n",
       "      <th>4</th>\n",
       "      <th>5</th>\n",
       "      <th>6</th>\n",
       "      <th>7</th>\n",
       "      <th>8</th>\n",
       "      <th>9</th>\n",
       "      <th>...</th>\n",
       "      <th>327</th>\n",
       "      <th>328</th>\n",
       "      <th>329</th>\n",
       "      <th>330</th>\n",
       "      <th>331</th>\n",
       "      <th>332</th>\n",
       "      <th>333</th>\n",
       "      <th>334</th>\n",
       "      <th>335</th>\n",
       "      <th>336</th>\n",
       "    </tr>\n",
       "  </thead>\n",
       "  <tbody>\n",
       "    <tr>\n",
       "      <th>basis</th>\n",
       "      <td>psi</td>\n",
       "      <td>rmsd</td>\n",
       "      <td>phipsi</td>\n",
       "      <td>phipsi</td>\n",
       "      <td>phi</td>\n",
       "      <td>positions</td>\n",
       "      <td>rmsd</td>\n",
       "      <td>phi</td>\n",
       "      <td>psi</td>\n",
       "      <td>positions</td>\n",
       "      <td>...</td>\n",
       "      <td>phipsi</td>\n",
       "      <td>rmsd</td>\n",
       "      <td>psi</td>\n",
       "      <td>positions</td>\n",
       "      <td>rmsd</td>\n",
       "      <td>rmsd</td>\n",
       "      <td>phipsi</td>\n",
       "      <td>rmsd</td>\n",
       "      <td>rmsd</td>\n",
       "      <td>rmsd</td>\n",
       "    </tr>\n",
       "    <tr>\n",
       "      <th>y</th>\n",
       "      <td>1.79637</td>\n",
       "      <td>1.70957</td>\n",
       "      <td>3.27798</td>\n",
       "      <td>3.28693</td>\n",
       "      <td>1.98877</td>\n",
       "      <td>3.29715</td>\n",
       "      <td>1.70869</td>\n",
       "      <td>1.98756</td>\n",
       "      <td>1.79831</td>\n",
       "      <td>3.16998</td>\n",
       "      <td>...</td>\n",
       "      <td>3.29081</td>\n",
       "      <td>1.71039</td>\n",
       "      <td>1.79486</td>\n",
       "      <td>3.31378</td>\n",
       "      <td>1.71251</td>\n",
       "      <td>1.70886</td>\n",
       "      <td>3.28592</td>\n",
       "      <td>1.71229</td>\n",
       "      <td>1.71155</td>\n",
       "      <td>1.70997</td>\n",
       "    </tr>\n",
       "    <tr>\n",
       "      <th>n</th>\n",
       "      <td>77</td>\n",
       "      <td>554</td>\n",
       "      <td>97</td>\n",
       "      <td>95</td>\n",
       "      <td>362</td>\n",
       "      <td>440</td>\n",
       "      <td>942</td>\n",
       "      <td>169</td>\n",
       "      <td>96</td>\n",
       "      <td>33</td>\n",
       "      <td>...</td>\n",
       "      <td>274</td>\n",
       "      <td>156</td>\n",
       "      <td>519</td>\n",
       "      <td>390</td>\n",
       "      <td>150</td>\n",
       "      <td>628</td>\n",
       "      <td>292</td>\n",
       "      <td>127</td>\n",
       "      <td>155</td>\n",
       "      <td>47</td>\n",
       "    </tr>\n",
       "    <tr>\n",
       "      <th>n_s</th>\n",
       "      <td>0.0638945</td>\n",
       "      <td>0.547667</td>\n",
       "      <td>0.0841785</td>\n",
       "      <td>0.0821501</td>\n",
       "      <td>0.352941</td>\n",
       "      <td>0.432049</td>\n",
       "      <td>0.941176</td>\n",
       "      <td>0.157201</td>\n",
       "      <td>0.0831643</td>\n",
       "      <td>0.0192698</td>\n",
       "      <td>...</td>\n",
       "      <td>0.263692</td>\n",
       "      <td>0.144016</td>\n",
       "      <td>0.51217</td>\n",
       "      <td>0.381339</td>\n",
       "      <td>0.137931</td>\n",
       "      <td>0.622718</td>\n",
       "      <td>0.281947</td>\n",
       "      <td>0.114604</td>\n",
       "      <td>0.143002</td>\n",
       "      <td>0.0334686</td>\n",
       "    </tr>\n",
       "  </tbody>\n",
       "</table>\n",
       "<p>4 rows × 337 columns</p>\n",
       "</div>"
      ],
      "text/plain": [
       "             0         1          2          3         4          5    \\\n",
       "basis        psi      rmsd     phipsi     phipsi       phi  positions   \n",
       "y        1.79637   1.70957    3.27798    3.28693   1.98877    3.29715   \n",
       "n             77       554         97         95       362        440   \n",
       "n_s    0.0638945  0.547667  0.0841785  0.0821501  0.352941   0.432049   \n",
       "\n",
       "            6         7          8          9    ...       327       328  \\\n",
       "basis      rmsd       phi        psi  positions  ...    phipsi      rmsd   \n",
       "y       1.70869   1.98756    1.79831    3.16998  ...   3.29081   1.71039   \n",
       "n           942       169         96         33  ...       274       156   \n",
       "n_s    0.941176  0.157201  0.0831643  0.0192698  ...  0.263692  0.144016   \n",
       "\n",
       "           329        330       331       332       333       334       335  \\\n",
       "basis      psi  positions      rmsd      rmsd    phipsi      rmsd      rmsd   \n",
       "y      1.79486    3.31378   1.71251   1.70886   3.28592   1.71229   1.71155   \n",
       "n          519        390       150       628       292       127       155   \n",
       "n_s    0.51217   0.381339  0.137931  0.622718  0.281947  0.114604  0.143002   \n",
       "\n",
       "             336  \n",
       "basis       rmsd  \n",
       "y        1.70997  \n",
       "n             47  \n",
       "n_s    0.0334686  \n",
       "\n",
       "[4 rows x 337 columns]"
      ]
     },
     "execution_count": 6,
     "metadata": {},
     "output_type": "execute_result"
    }
   ],
   "source": [
    "to_scale = ['n']\n",
    "scaler = preprocessing.MinMaxScaler()\n",
    "vars_scaled = pd.DataFrame(scaler.fit_transform(df.loc[:, to_scale]), columns=[x+'_s' for x in to_scale])\n",
    "df = df.join(vars_scaled)\n",
    "df.T"
   ]
  },
  {
   "cell_type": "markdown",
   "metadata": {},
   "source": [
    "## Create design matrix"
   ]
  },
  {
   "cell_type": "code",
   "execution_count": 22,
   "metadata": {},
   "outputs": [],
   "source": [
    "y = df.loc[:, 'y']\n",
    "X = df.loc[:, df.columns.difference(['y'])]\n",
    "X_c = pt.dmatrix('~ 0 + n_s + C(basis)', data=df, return_type='dataframe')\n",
    "X_c = X_c.rename(columns=lambda x: re.sub('C|\\\\(|\\\\)|\\\\[|\\\\]','',x))"
   ]
  },
  {
   "cell_type": "markdown",
   "metadata": {},
   "source": [
    "## Model fitting functions"
   ]
  },
  {
   "cell_type": "code",
   "execution_count": 16,
   "metadata": {},
   "outputs": [],
   "source": [
    "def gamma(alpha, beta):\n",
    "    def g(x):\n",
    "        return pm.Gamma(x, alpha=alpha, beta=beta)\n",
    "    return g\n",
    "\n",
    "def hcauchy(beta):\n",
    "    def g(x):\n",
    "        return pm.HalfCauchy(x, beta=beta)\n",
    "    return g\n",
    "\n",
    "\n",
    "def fit_model_1(y, X, kernel_type='rbf'):\n",
    "    \"\"\"\n",
    "    function to return a pymc3 model\n",
    "    y : dependent variable\n",
    "    X : independent variables\n",
    "    prop_Xu : number of inducing varibles to use\n",
    "    \n",
    "    X, y are dataframes. We'll use the column names. \n",
    "    \"\"\"\n",
    "    with pm.Model() as model:\n",
    "        # Covert arrays\n",
    "        X_a = X.values\n",
    "        y_a = y.values\n",
    "        X_cols = list(X.columns)\n",
    "        \n",
    "        # Globals\n",
    "        prop_Xu = 0.1 # proportion of observations to use as inducing variables\n",
    "        l_prior = gamma(1, 0.05)\n",
    "        eta_prior = hcauchy(2)\n",
    "        sigma_prior = hcauchy(2)\n",
    "\n",
    "        # Kernels\n",
    "        # 3 way interaction\n",
    "        eta = eta_prior('eta')\n",
    "        cov = eta**2\n",
    "        for i in range(X_a.shape[1]):\n",
    "            var_lab = 'l_'+X_cols[i]\n",
    "            if kernel_type=='RBF':\n",
    "                cov = cov*pm.gp.cov.ExpQuad(X_a.shape[1], ls=l_prior(var_lab), active_dims=[i])\n",
    "            if kernel_type=='Exponential':\n",
    "                cov = cov*pm.gp.cov.Exponential(X_a.shape[1], ls=l_prior(var_lab), active_dims=[i])\n",
    "            if kernel_type=='M52':\n",
    "                cov = cov*pm.gp.cov.Matern52(X_a.shape[1], ls=l_prior(var_lab), active_dims=[i])\n",
    "            if kernel_type=='M32':\n",
    "                cov = cov*pm.gp.cov.Matern32(X_a.shape[1], ls=l_prior(var_lab), active_dims=[i])\n",
    "\n",
    "        # Covariance model\n",
    "        cov_tot = cov \n",
    "\n",
    "        # Model\n",
    "        gp = pm.gp.MarginalSparse(cov_func=cov_tot, approx=\"FITC\")\n",
    "\n",
    "        # Noise model\n",
    "        sigma_n =sigma_prior('sigma_n')\n",
    "\n",
    "        # Inducing variables\n",
    "        num_Xu = int(X_a.shape[0]*prop_Xu)\n",
    "        Xu = pm.gp.util.kmeans_inducing_points(num_Xu, X_a)\n",
    "\n",
    "        # Marginal likelihood\n",
    "        y_ = gp.marginal_likelihood('y_', X=X_a, y=y_a,Xu=Xu, noise=sigma_n)\n",
    "        mp = pm.find_MAP()\n",
    "        \n",
    "    return gp, mp, model"
   ]
  },
  {
   "cell_type": "markdown",
   "metadata": {},
   "source": [
    "## Main testing loop"
   ]
  },
  {
   "cell_type": "code",
   "execution_count": 25,
   "metadata": {
    "scrolled": false
   },
   "outputs": [
    {
     "name": "stdout",
     "output_type": "stream",
     "text": [
      "M32\n",
      "\tfold: 0\n"
     ]
    },
    {
     "name": "stderr",
     "output_type": "stream",
     "text": [
      "INFO (theano.gof.compilelock): Refreshing lock /Users/robertarbon/.theano/compiledir_Darwin-19.3.0-x86_64-i386-64bit-i386-3.6.10-64/lock_dir/lock\n",
      "/Users/robertarbon/opt/miniconda3/envs/analysis/lib/python3.6/site-packages/theano/tensor/basic.py:6611: FutureWarning: Using a non-tuple sequence for multidimensional indexing is deprecated; use `arr[tuple(seq)]` instead of `arr[seq]`. In the future this will be interpreted as an array index, `arr[np.array(seq)]`, which will result either in an error or a different result.\n",
      "  result[diagonal_slice] = x\n",
      "/Users/robertarbon/opt/miniconda3/envs/analysis/lib/python3.6/site-packages/theano/tensor/basic.py:6611: FutureWarning: Using a non-tuple sequence for multidimensional indexing is deprecated; use `arr[tuple(seq)]` instead of `arr[seq]`. In the future this will be interpreted as an array index, `arr[np.array(seq)]`, which will result either in an error or a different result.\n",
      "  result[diagonal_slice] = x\n",
      "/Users/robertarbon/opt/miniconda3/envs/analysis/lib/python3.6/site-packages/theano/tensor/basic.py:6611: FutureWarning: Using a non-tuple sequence for multidimensional indexing is deprecated; use `arr[tuple(seq)]` instead of `arr[seq]`. In the future this will be interpreted as an array index, `arr[np.array(seq)]`, which will result either in an error or a different result.\n",
      "  result[diagonal_slice] = x\n",
      "INFO (theano.gof.compilelock): Refreshing lock /Users/robertarbon/.theano/compiledir_Darwin-19.3.0-x86_64-i386-64bit-i386-3.6.10-64/lock_dir/lock\n",
      "/Users/robertarbon/opt/miniconda3/envs/analysis/lib/python3.6/site-packages/theano/tensor/basic.py:6611: FutureWarning: Using a non-tuple sequence for multidimensional indexing is deprecated; use `arr[tuple(seq)]` instead of `arr[seq]`. In the future this will be interpreted as an array index, `arr[np.array(seq)]`, which will result either in an error or a different result.\n",
      "  result[diagonal_slice] = x\n",
      "/Users/robertarbon/opt/miniconda3/envs/analysis/lib/python3.6/site-packages/theano/tensor/basic.py:6611: FutureWarning: Using a non-tuple sequence for multidimensional indexing is deprecated; use `arr[tuple(seq)]` instead of `arr[seq]`. In the future this will be interpreted as an array index, `arr[np.array(seq)]`, which will result either in an error or a different result.\n",
      "  result[diagonal_slice] = x\n",
      "/Users/robertarbon/opt/miniconda3/envs/analysis/lib/python3.6/site-packages/theano/tensor/basic.py:6611: FutureWarning: Using a non-tuple sequence for multidimensional indexing is deprecated; use `arr[tuple(seq)]` instead of `arr[seq]`. In the future this will be interpreted as an array index, `arr[np.array(seq)]`, which will result either in an error or a different result.\n",
      "  result[diagonal_slice] = x\n",
      "/Users/robertarbon/opt/miniconda3/envs/analysis/lib/python3.6/site-packages/theano/tensor/basic.py:6611: FutureWarning: Using a non-tuple sequence for multidimensional indexing is deprecated; use `arr[tuple(seq)]` instead of `arr[seq]`. In the future this will be interpreted as an array index, `arr[np.array(seq)]`, which will result either in an error or a different result.\n",
      "  result[diagonal_slice] = x\n",
      "INFO (theano.gof.compilelock): Refreshing lock /Users/robertarbon/.theano/compiledir_Darwin-19.3.0-x86_64-i386-64bit-i386-3.6.10-64/lock_dir/lock\n",
      "  0%|          | 0/5000 [00:00<?, ?it/s]/Users/robertarbon/opt/miniconda3/envs/analysis/lib/python3.6/site-packages/theano/tensor/basic.py:6611: FutureWarning: Using a non-tuple sequence for multidimensional indexing is deprecated; use `arr[tuple(seq)]` instead of `arr[seq]`. In the future this will be interpreted as an array index, `arr[np.array(seq)]`, which will result either in an error or a different result.\n",
      "  result[diagonal_slice] = x\n",
      "logp = 808.32, ||grad|| = 0.2187: 100%|██████████| 70/70 [00:00<00:00, 107.28it/s]   \n"
     ]
    },
    {
     "name": "stdout",
     "output_type": "stream",
     "text": [
      "\tfold: 1\n"
     ]
    },
    {
     "name": "stderr",
     "output_type": "stream",
     "text": [
      "INFO (theano.gof.compilelock): Refreshing lock /Users/robertarbon/.theano/compiledir_Darwin-19.3.0-x86_64-i386-64bit-i386-3.6.10-64/lock_dir/lock\n",
      "/Users/robertarbon/opt/miniconda3/envs/analysis/lib/python3.6/site-packages/theano/tensor/basic.py:6611: FutureWarning: Using a non-tuple sequence for multidimensional indexing is deprecated; use `arr[tuple(seq)]` instead of `arr[seq]`. In the future this will be interpreted as an array index, `arr[np.array(seq)]`, which will result either in an error or a different result.\n",
      "  result[diagonal_slice] = x\n",
      "logp = 760.99, ||grad|| = 0.57331: 100%|██████████| 69/69 [00:00<00:00, 118.89it/s]  \n"
     ]
    },
    {
     "name": "stdout",
     "output_type": "stream",
     "text": [
      "\tfold: 2\n"
     ]
    },
    {
     "name": "stderr",
     "output_type": "stream",
     "text": [
      "logp = 745.3, ||grad|| = 0.1638: 100%|██████████| 91/91 [00:01<00:00, 75.60it/s]            \n"
     ]
    },
    {
     "name": "stdout",
     "output_type": "stream",
     "text": [
      "\tfold: 3\n"
     ]
    },
    {
     "name": "stderr",
     "output_type": "stream",
     "text": [
      "INFO (theano.gof.compilelock): Refreshing lock /Users/robertarbon/.theano/compiledir_Darwin-19.3.0-x86_64-i386-64bit-i386-3.6.10-64/lock_dir/lock\n",
      "logp = 575.76, ||grad|| = 0.028576: 100%|██████████| 52/52 [00:00<00:00, 111.33it/s]  \n"
     ]
    },
    {
     "name": "stdout",
     "output_type": "stream",
     "text": [
      "\tfold: 4\n"
     ]
    },
    {
     "name": "stderr",
     "output_type": "stream",
     "text": [
      "logp = 691.18, ||grad|| = 0.0030865: 100%|██████████| 42/42 [00:00<00:00, 108.33it/s]  \n"
     ]
    },
    {
     "name": "stdout",
     "output_type": "stream",
     "text": [
      "\tfold: 5\n"
     ]
    },
    {
     "name": "stderr",
     "output_type": "stream",
     "text": [
      "INFO (theano.gof.compilelock): Refreshing lock /Users/robertarbon/.theano/compiledir_Darwin-19.3.0-x86_64-i386-64bit-i386-3.6.10-64/lock_dir/lock\n",
      "logp = 767.26, ||grad|| = 0.66403: 100%|██████████| 69/69 [00:01<00:00, 62.42it/s]  \n"
     ]
    },
    {
     "name": "stdout",
     "output_type": "stream",
     "text": [
      "\tfold: 6\n"
     ]
    },
    {
     "name": "stderr",
     "output_type": "stream",
     "text": [
      "INFO (theano.gof.compilelock): Refreshing lock /Users/robertarbon/.theano/compiledir_Darwin-19.3.0-x86_64-i386-64bit-i386-3.6.10-64/lock_dir/lock\n",
      "logp = 711.21, ||grad|| = 0.017342: 100%|██████████| 44/44 [00:00<00:00, 115.46it/s]  \n"
     ]
    },
    {
     "name": "stdout",
     "output_type": "stream",
     "text": [
      "\tfold: 7\n"
     ]
    },
    {
     "name": "stderr",
     "output_type": "stream",
     "text": [
      "logp = 756.97, ||grad|| = 0.054455: 100%|██████████| 65/65 [00:00<00:00, 96.31it/s]  \n"
     ]
    },
    {
     "name": "stdout",
     "output_type": "stream",
     "text": [
      "\tfold: 8\n"
     ]
    },
    {
     "name": "stderr",
     "output_type": "stream",
     "text": [
      "INFO (theano.gof.compilelock): Refreshing lock /Users/robertarbon/.theano/compiledir_Darwin-19.3.0-x86_64-i386-64bit-i386-3.6.10-64/lock_dir/lock\n",
      "logp = 719.25, ||grad|| = 0.018069: 100%|██████████| 54/54 [00:00<00:00, 104.79it/s] \n"
     ]
    },
    {
     "name": "stdout",
     "output_type": "stream",
     "text": [
      "\tfold: 9\n"
     ]
    },
    {
     "name": "stderr",
     "output_type": "stream",
     "text": [
      "logp = 733.43, ||grad|| = 0.0071888: 100%|██████████| 43/43 [00:00<00:00, 97.43it/s]  \n"
     ]
    },
    {
     "name": "stdout",
     "output_type": "stream",
     "text": [
      "M52\n",
      "\tfold: 0\n"
     ]
    },
    {
     "name": "stderr",
     "output_type": "stream",
     "text": [
      "INFO (theano.gof.compilelock): Refreshing lock /Users/robertarbon/.theano/compiledir_Darwin-19.3.0-x86_64-i386-64bit-i386-3.6.10-64/lock_dir/lock\n",
      "/Users/robertarbon/opt/miniconda3/envs/analysis/lib/python3.6/site-packages/theano/tensor/basic.py:6611: FutureWarning: Using a non-tuple sequence for multidimensional indexing is deprecated; use `arr[tuple(seq)]` instead of `arr[seq]`. In the future this will be interpreted as an array index, `arr[np.array(seq)]`, which will result either in an error or a different result.\n",
      "  result[diagonal_slice] = x\n",
      "/Users/robertarbon/opt/miniconda3/envs/analysis/lib/python3.6/site-packages/theano/tensor/basic.py:6611: FutureWarning: Using a non-tuple sequence for multidimensional indexing is deprecated; use `arr[tuple(seq)]` instead of `arr[seq]`. In the future this will be interpreted as an array index, `arr[np.array(seq)]`, which will result either in an error or a different result.\n",
      "  result[diagonal_slice] = x\n",
      "  0%|          | 0/5000 [00:00<?, ?it/s]/Users/robertarbon/opt/miniconda3/envs/analysis/lib/python3.6/site-packages/theano/tensor/basic.py:6611: FutureWarning: Using a non-tuple sequence for multidimensional indexing is deprecated; use `arr[tuple(seq)]` instead of `arr[seq]`. In the future this will be interpreted as an array index, `arr[np.array(seq)]`, which will result either in an error or a different result.\n",
      "  result[diagonal_slice] = x\n",
      "logp = 1,014.8, ||grad|| = 0.0082084: 100%|██████████| 73/73 [00:00<00:00, 111.15it/s]  \n"
     ]
    },
    {
     "name": "stdout",
     "output_type": "stream",
     "text": [
      "\tfold: 1\n"
     ]
    },
    {
     "name": "stderr",
     "output_type": "stream",
     "text": [
      "INFO (theano.gof.compilelock): Refreshing lock /Users/robertarbon/.theano/compiledir_Darwin-19.3.0-x86_64-i386-64bit-i386-3.6.10-64/lock_dir/lock\n",
      "logp = 870.35, ||grad|| = 0.034839: 100%|██████████| 130/130 [00:01<00:00, 111.58it/s] \n"
     ]
    },
    {
     "name": "stdout",
     "output_type": "stream",
     "text": [
      "\tfold: 2\n"
     ]
    },
    {
     "name": "stderr",
     "output_type": "stream",
     "text": [
      "logp = 763.68, ||grad|| = 0.024541: 100%|██████████| 123/123 [00:01<00:00, 122.09it/s] \n"
     ]
    },
    {
     "name": "stdout",
     "output_type": "stream",
     "text": [
      "\tfold: 3\n"
     ]
    },
    {
     "name": "stderr",
     "output_type": "stream",
     "text": [
      "INFO (theano.gof.compilelock): Refreshing lock /Users/robertarbon/.theano/compiledir_Darwin-19.3.0-x86_64-i386-64bit-i386-3.6.10-64/lock_dir/lock\n",
      "logp = 594.64, ||grad|| = 0.018949: 100%|██████████| 57/57 [00:00<00:00, 131.51it/s]  \n"
     ]
    },
    {
     "name": "stdout",
     "output_type": "stream",
     "text": [
      "\tfold: 4\n"
     ]
    },
    {
     "name": "stderr",
     "output_type": "stream",
     "text": [
      "logp = 806.7, ||grad|| = 0.014414: 100%|██████████| 64/64 [00:00<00:00, 124.97it/s]  \n"
     ]
    },
    {
     "name": "stdout",
     "output_type": "stream",
     "text": [
      "\tfold: 5\n"
     ]
    },
    {
     "name": "stderr",
     "output_type": "stream",
     "text": [
      "INFO (theano.gof.compilelock): Refreshing lock /Users/robertarbon/.theano/compiledir_Darwin-19.3.0-x86_64-i386-64bit-i386-3.6.10-64/lock_dir/lock\n",
      "logp = 771.56, ||grad|| = 0.032437: 100%|██████████| 67/67 [00:00<00:00, 94.84it/s]   \n"
     ]
    },
    {
     "name": "stdout",
     "output_type": "stream",
     "text": [
      "\tfold: 6\n"
     ]
    },
    {
     "name": "stderr",
     "output_type": "stream",
     "text": [
      "INFO (theano.gof.compilelock): Refreshing lock /Users/robertarbon/.theano/compiledir_Darwin-19.3.0-x86_64-i386-64bit-i386-3.6.10-64/lock_dir/lock\n",
      "logp = 768.33, ||grad|| = 0.054804: 100%|██████████| 74/74 [00:00<00:00, 78.70it/s]  \n"
     ]
    },
    {
     "name": "stdout",
     "output_type": "stream",
     "text": [
      "\tfold: 7\n"
     ]
    },
    {
     "name": "stderr",
     "output_type": "stream",
     "text": [
      "INFO (theano.gof.compilelock): Refreshing lock /Users/robertarbon/.theano/compiledir_Darwin-19.3.0-x86_64-i386-64bit-i386-3.6.10-64/lock_dir/lock\n",
      "logp = 738.22, ||grad|| = 0.26296: 100%|██████████| 70/70 [00:00<00:00, 87.66it/s]  \n"
     ]
    },
    {
     "name": "stdout",
     "output_type": "stream",
     "text": [
      "\tfold: 8\n"
     ]
    },
    {
     "name": "stderr",
     "output_type": "stream",
     "text": [
      "logp = 612.73, ||grad|| = 0.22063: 100%|██████████| 51/51 [00:00<00:00, 70.81it/s]  \n"
     ]
    },
    {
     "name": "stdout",
     "output_type": "stream",
     "text": [
      "\tfold: 9\n"
     ]
    },
    {
     "name": "stderr",
     "output_type": "stream",
     "text": [
      "INFO (theano.gof.compilelock): Refreshing lock /Users/robertarbon/.theano/compiledir_Darwin-19.3.0-x86_64-i386-64bit-i386-3.6.10-64/lock_dir/lock\n",
      "logp = 950.58, ||grad|| = 0.081094: 100%|██████████| 65/65 [00:00<00:00, 84.78it/s]  \n"
     ]
    },
    {
     "name": "stdout",
     "output_type": "stream",
     "text": [
      "RBF\n",
      "\tfold: 0\n"
     ]
    },
    {
     "name": "stderr",
     "output_type": "stream",
     "text": [
      "/Users/robertarbon/opt/miniconda3/envs/analysis/lib/python3.6/site-packages/theano/tensor/basic.py:6611: FutureWarning: Using a non-tuple sequence for multidimensional indexing is deprecated; use `arr[tuple(seq)]` instead of `arr[seq]`. In the future this will be interpreted as an array index, `arr[np.array(seq)]`, which will result either in an error or a different result.\n",
      "  result[diagonal_slice] = x\n",
      "INFO (theano.gof.compilelock): Refreshing lock /Users/robertarbon/.theano/compiledir_Darwin-19.3.0-x86_64-i386-64bit-i386-3.6.10-64/lock_dir/lock\n",
      "  0%|          | 0/5000 [00:00<?, ?it/s]/Users/robertarbon/opt/miniconda3/envs/analysis/lib/python3.6/site-packages/theano/tensor/basic.py:6611: FutureWarning: Using a non-tuple sequence for multidimensional indexing is deprecated; use `arr[tuple(seq)]` instead of `arr[seq]`. In the future this will be interpreted as an array index, `arr[np.array(seq)]`, which will result either in an error or a different result.\n",
      "  result[diagonal_slice] = x\n",
      "logp = 972.09, ||grad|| = 0.026962: 100%|██████████| 94/94 [00:00<00:00, 126.86it/s]  \n"
     ]
    },
    {
     "name": "stdout",
     "output_type": "stream",
     "text": [
      "\tfold: 1\n"
     ]
    },
    {
     "name": "stderr",
     "output_type": "stream",
     "text": [
      "logp = 896.18, ||grad|| = 0.097848: 100%|██████████| 105/105 [00:00<00:00, 139.20it/s] \n"
     ]
    },
    {
     "name": "stdout",
     "output_type": "stream",
     "text": [
      "\tfold: 2\n"
     ]
    },
    {
     "name": "stderr",
     "output_type": "stream",
     "text": [
      "INFO (theano.gof.compilelock): Refreshing lock /Users/robertarbon/.theano/compiledir_Darwin-19.3.0-x86_64-i386-64bit-i386-3.6.10-64/lock_dir/lock\n",
      "logp = 600.11, ||grad|| = 13.34: 100%|██████████| 41/41 [00:00<00:00, 146.88it/s]   \n"
     ]
    },
    {
     "name": "stdout",
     "output_type": "stream",
     "text": [
      "\tfold: 3\n"
     ]
    },
    {
     "name": "stderr",
     "output_type": "stream",
     "text": [
      "logp = 744.43, ||grad|| = 0.086138: 100%|██████████| 119/119 [00:00<00:00, 141.19it/s] \n"
     ]
    },
    {
     "name": "stdout",
     "output_type": "stream",
     "text": [
      "\tfold: 4\n"
     ]
    },
    {
     "name": "stderr",
     "output_type": "stream",
     "text": [
      "INFO (theano.gof.compilelock): Refreshing lock /Users/robertarbon/.theano/compiledir_Darwin-19.3.0-x86_64-i386-64bit-i386-3.6.10-64/lock_dir/lock\n",
      "logp = 1,085.6, ||grad|| = 0.24609: 100%|██████████| 135/135 [00:00<00:00, 141.22it/s] \n"
     ]
    },
    {
     "name": "stdout",
     "output_type": "stream",
     "text": [
      "\tfold: 5\n"
     ]
    },
    {
     "name": "stderr",
     "output_type": "stream",
     "text": [
      "logp = 815.3, ||grad|| = 2.0013: 100%|██████████| 58/58 [00:00<00:00, 135.28it/s]   \n"
     ]
    },
    {
     "name": "stdout",
     "output_type": "stream",
     "text": [
      "\tfold: 6\n"
     ]
    },
    {
     "name": "stderr",
     "output_type": "stream",
     "text": [
      "INFO (theano.gof.compilelock): Refreshing lock /Users/robertarbon/.theano/compiledir_Darwin-19.3.0-x86_64-i386-64bit-i386-3.6.10-64/lock_dir/lock\n",
      "logp = 619, ||grad|| = 0.051206: 100%|██████████| 67/67 [00:00<00:00, 118.06it/s]   \n"
     ]
    },
    {
     "name": "stdout",
     "output_type": "stream",
     "text": [
      "\tfold: 7\n"
     ]
    },
    {
     "name": "stderr",
     "output_type": "stream",
     "text": [
      "logp = 912.03, ||grad|| = 0.040297: 100%|██████████| 52/52 [00:00<00:00, 144.61it/s]  \n"
     ]
    },
    {
     "name": "stdout",
     "output_type": "stream",
     "text": [
      "\tfold: 8\n"
     ]
    },
    {
     "name": "stderr",
     "output_type": "stream",
     "text": [
      "INFO (theano.gof.compilelock): Refreshing lock /Users/robertarbon/.theano/compiledir_Darwin-19.3.0-x86_64-i386-64bit-i386-3.6.10-64/lock_dir/lock\n",
      "logp = 607.49, ||grad|| = 0.26752: 100%|██████████| 70/70 [00:00<00:00, 151.57it/s]  \n"
     ]
    },
    {
     "name": "stdout",
     "output_type": "stream",
     "text": [
      "\tfold: 9\n"
     ]
    },
    {
     "name": "stderr",
     "output_type": "stream",
     "text": [
      "logp = 603.39, ||grad|| = 0.02703: 100%|██████████| 57/57 [00:00<00:00, 141.76it/s]  \n"
     ]
    },
    {
     "name": "stdout",
     "output_type": "stream",
     "text": [
      "Exponential\n",
      "\tfold: 0\n"
     ]
    },
    {
     "name": "stderr",
     "output_type": "stream",
     "text": [
      "INFO (theano.gof.compilelock): Refreshing lock /Users/robertarbon/.theano/compiledir_Darwin-19.3.0-x86_64-i386-64bit-i386-3.6.10-64/lock_dir/lock\n",
      "/Users/robertarbon/opt/miniconda3/envs/analysis/lib/python3.6/site-packages/theano/tensor/basic.py:6611: FutureWarning: Using a non-tuple sequence for multidimensional indexing is deprecated; use `arr[tuple(seq)]` instead of `arr[seq]`. In the future this will be interpreted as an array index, `arr[np.array(seq)]`, which will result either in an error or a different result.\n",
      "  result[diagonal_slice] = x\n",
      "  0%|          | 0/5000 [00:00<?, ?it/s]/Users/robertarbon/opt/miniconda3/envs/analysis/lib/python3.6/site-packages/theano/tensor/basic.py:6611: FutureWarning: Using a non-tuple sequence for multidimensional indexing is deprecated; use `arr[tuple(seq)]` instead of `arr[seq]`. In the future this will be interpreted as an array index, `arr[np.array(seq)]`, which will result either in an error or a different result.\n",
      "  result[diagonal_slice] = x\n",
      "logp = 721.01, ||grad|| = 0.012393: 100%|██████████| 53/53 [00:00<00:00, 111.48it/s]  \n"
     ]
    },
    {
     "name": "stdout",
     "output_type": "stream",
     "text": [
      "\tfold: 1\n"
     ]
    },
    {
     "name": "stderr",
     "output_type": "stream",
     "text": [
      "INFO (theano.gof.compilelock): Refreshing lock /Users/robertarbon/.theano/compiledir_Darwin-19.3.0-x86_64-i386-64bit-i386-3.6.10-64/lock_dir/lock\n",
      "logp = 632.33, ||grad|| = 0.109: 100%|██████████| 68/68 [00:00<00:00, 99.11it/s]      \n"
     ]
    },
    {
     "name": "stdout",
     "output_type": "stream",
     "text": [
      "\tfold: 2\n"
     ]
    },
    {
     "name": "stderr",
     "output_type": "stream",
     "text": [
      "logp = 649.96, ||grad|| = 0.015095: 100%|██████████| 65/65 [00:00<00:00, 103.89it/s]  \n"
     ]
    },
    {
     "name": "stdout",
     "output_type": "stream",
     "text": [
      "\tfold: 3\n"
     ]
    },
    {
     "name": "stderr",
     "output_type": "stream",
     "text": [
      "INFO (theano.gof.compilelock): Refreshing lock /Users/robertarbon/.theano/compiledir_Darwin-19.3.0-x86_64-i386-64bit-i386-3.6.10-64/lock_dir/lock\n",
      "logp = 619.06, ||grad|| = 0.044871: 100%|██████████| 45/45 [00:00<00:00, 101.64it/s] \n"
     ]
    },
    {
     "name": "stdout",
     "output_type": "stream",
     "text": [
      "\tfold: 4\n"
     ]
    },
    {
     "name": "stderr",
     "output_type": "stream",
     "text": [
      "logp = 594.44, ||grad|| = 0.010825: 100%|██████████| 70/70 [00:00<00:00, 96.40it/s]   \n"
     ]
    },
    {
     "name": "stdout",
     "output_type": "stream",
     "text": [
      "\tfold: 5\n"
     ]
    },
    {
     "name": "stderr",
     "output_type": "stream",
     "text": [
      "INFO (theano.gof.compilelock): Refreshing lock /Users/robertarbon/.theano/compiledir_Darwin-19.3.0-x86_64-i386-64bit-i386-3.6.10-64/lock_dir/lock\n",
      "logp = 701.67, ||grad|| = 10.955: 100%|██████████| 34/34 [00:00<00:00, 105.69it/s]  \n"
     ]
    },
    {
     "name": "stdout",
     "output_type": "stream",
     "text": [
      "\tfold: 6\n"
     ]
    },
    {
     "name": "stderr",
     "output_type": "stream",
     "text": [
      "logp = 596.4, ||grad|| = 0.008661: 100%|██████████| 44/44 [00:00<00:00, 119.60it/s]  \n"
     ]
    },
    {
     "name": "stdout",
     "output_type": "stream",
     "text": [
      "\tfold: 7\n"
     ]
    },
    {
     "name": "stderr",
     "output_type": "stream",
     "text": [
      "INFO (theano.gof.compilelock): Refreshing lock /Users/robertarbon/.theano/compiledir_Darwin-19.3.0-x86_64-i386-64bit-i386-3.6.10-64/lock_dir/lock\n",
      "logp = 622.37, ||grad|| = 0.0045917: 100%|██████████| 44/44 [00:00<00:00, 119.74it/s]  \n"
     ]
    },
    {
     "name": "stdout",
     "output_type": "stream",
     "text": [
      "\tfold: 8\n"
     ]
    },
    {
     "name": "stderr",
     "output_type": "stream",
     "text": [
      "logp = 633.84, ||grad|| = 0.0029315: 100%|██████████| 48/48 [00:00<00:00, 103.11it/s] \n"
     ]
    },
    {
     "name": "stdout",
     "output_type": "stream",
     "text": [
      "\tfold: 9\n"
     ]
    },
    {
     "name": "stderr",
     "output_type": "stream",
     "text": [
      "INFO (theano.gof.compilelock): Refreshing lock /Users/robertarbon/.theano/compiledir_Darwin-19.3.0-x86_64-i386-64bit-i386-3.6.10-64/lock_dir/lock\n",
      "logp = 635.39, ||grad|| = 0.0090169: 100%|██████████| 81/81 [00:00<00:00, 95.97it/s]  \n"
     ]
    }
   ],
   "source": [
    "# Inputs\n",
    "kernels =  ['M32', 'M52', 'RBF', 'Exponential' ]\n",
    "\n",
    "# Outputs\n",
    "pred_dfs = []\n",
    "\n",
    "# iterator\n",
    "kf = StratifiedKFold(n_splits=10)\n",
    "\n",
    "for i in range(len(kernels)):\n",
    "    print(kernels[i])\n",
    "    for idx, (train_idx, test_idx) in enumerate(kf.split(X.values, X['basis'])):\n",
    "        print('\\tfold: {}'.format(idx))\n",
    "        # subset dataframes for training and testin\n",
    "        y_train = y.iloc[train_idx]\n",
    "        X_train = X_c.iloc[train_idx, :]\n",
    "        \n",
    "        y_test = y.iloc[test_idx]\n",
    "        X_test = X_c.iloc[test_idx, :]  \n",
    "        \n",
    "        # Fit gp model\n",
    "        gp, mp, model = fit_model_1(y=y_train, X=X_train, kernel_type=kernels[i])\n",
    "\n",
    "        # Get predictions for evalution\n",
    "        with model:\n",
    "            # predict latent\n",
    "            mu, var = gp.predict(X_test.values, point=mp, diag=True,pred_noise=False)\n",
    "            sd_f = np.sqrt(var)\n",
    "\n",
    "            # predict target (includes noise)\n",
    "            _, var = gp.predict(X_test.values, point=mp, diag=True,pred_noise=True)\n",
    "            sd_y = np.sqrt(var)\n",
    "            \n",
    "        res = pd.DataFrame({'f_pred': mu, 'sd_f': sd_f, 'sd_y': sd_y, 'y': y_test.values})\n",
    "        res.loc[:, 'kernel'] = kernels[i]\n",
    "        res.loc[:, 'fold_num'] = idx\n",
    "        \n",
    "        pred_dfs.append(pd.concat([X_test.reset_index(), res.reset_index()], axis=1))\n",
    "\n",
    "pred_dfs = pd.concat(pred_dfs)\n",
    "\n",
    "null_mu = np.mean(y)\n",
    "null_sd = np.std(y)"
   ]
  },
  {
   "cell_type": "markdown",
   "metadata": {},
   "source": [
    "## Evaluate kernels"
   ]
  },
  {
   "cell_type": "code",
   "execution_count": 29,
   "metadata": {},
   "outputs": [],
   "source": [
    "def ll(f_pred, sigma_pred, y_true):\n",
    "    # log predictive density\n",
    "    tmp = 0.5*np.log(2*np.pi*sigma_pred**2)\n",
    "    tmp += (f_pred-y_true)**2/(2*sigma_pred**2)\n",
    "    return tmp\n",
    "\n",
    "\n",
    "sll = ll(pred_dfs['f_pred'], pred_dfs['sd_y'], pred_dfs['y'])\n",
    "sll = sll - ll(null_mu, null_sd, pred_dfs['y'])\n",
    "pred_dfs['msll'] = sll\n",
    "pred_dfs['smse'] = (pred_dfs['f_pred']-pred_dfs['y'])**2/np.var(y)\n",
    "pred_dfs.to_pickle('outputs/kernel_cv_fits.p')\n",
    "\n",
    "msll = pred_dfs.groupby(['kernel'])['msll'].mean()\n",
    "smse = pred_dfs.groupby(['kernel'])['smse'].mean()\n",
    "\n",
    "summary = pd.DataFrame(smse).join(other=pd.DataFrame(msll), on=['kernel'], how='left')\n",
    "summary.to_csv('outputs/kernel_cv_fits_summary.csv')"
   ]
  },
  {
   "cell_type": "code",
   "execution_count": 31,
   "metadata": {},
   "outputs": [
    {
     "data": {
      "text/html": [
       "<div>\n",
       "<style scoped>\n",
       "    .dataframe tbody tr th:only-of-type {\n",
       "        vertical-align: middle;\n",
       "    }\n",
       "\n",
       "    .dataframe tbody tr th {\n",
       "        vertical-align: top;\n",
       "    }\n",
       "\n",
       "    .dataframe thead th {\n",
       "        text-align: right;\n",
       "    }\n",
       "</style>\n",
       "<table border=\"1\" class=\"dataframe\">\n",
       "  <thead>\n",
       "    <tr style=\"text-align: right;\">\n",
       "      <th></th>\n",
       "      <th>smse</th>\n",
       "      <th>msll</th>\n",
       "    </tr>\n",
       "    <tr>\n",
       "      <th>kernel</th>\n",
       "      <th></th>\n",
       "      <th></th>\n",
       "    </tr>\n",
       "  </thead>\n",
       "  <tbody>\n",
       "    <tr>\n",
       "      <th>Exponential</th>\n",
       "      <td>0.002721</td>\n",
       "      <td>-2.973339</td>\n",
       "    </tr>\n",
       "    <tr>\n",
       "      <th>M32</th>\n",
       "      <td>0.002529</td>\n",
       "      <td>-3.421816</td>\n",
       "    </tr>\n",
       "    <tr>\n",
       "      <th>M52</th>\n",
       "      <td>0.002311</td>\n",
       "      <td>-3.817193</td>\n",
       "    </tr>\n",
       "    <tr>\n",
       "      <th>RBF</th>\n",
       "      <td>0.003170</td>\n",
       "      <td>-4.123877</td>\n",
       "    </tr>\n",
       "  </tbody>\n",
       "</table>\n",
       "</div>"
      ],
      "text/plain": [
       "                 smse      msll\n",
       "kernel                         \n",
       "Exponential  0.002721 -2.973339\n",
       "M32          0.002529 -3.421816\n",
       "M52          0.002311 -3.817193\n",
       "RBF          0.003170 -4.123877"
      ]
     },
     "execution_count": 31,
     "metadata": {},
     "output_type": "execute_result"
    }
   ],
   "source": [
    "summary"
   ]
  }
 ],
 "metadata": {
  "kernelspec": {
   "display_name": "Python 3",
   "language": "python",
   "name": "python3"
  },
  "language_info": {
   "codemirror_mode": {
    "name": "ipython",
    "version": 3
   },
   "file_extension": ".py",
   "mimetype": "text/x-python",
   "name": "python",
   "nbconvert_exporter": "python",
   "pygments_lexer": "ipython3",
   "version": "3.6.10"
  }
 },
 "nbformat": 4,
 "nbformat_minor": 4
}
