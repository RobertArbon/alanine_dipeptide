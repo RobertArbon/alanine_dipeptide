{
 "cells": [
  {
   "cell_type": "code",
   "execution_count": 107,
   "metadata": {},
   "outputs": [],
   "source": [
    "import pandas as pd\n",
    "import patsy as pt\n",
    "import numpy as np\n",
    "import seaborn as sns\n",
    "import matplotlib.pyplot as plt\n",
    "from sklearn import preprocessing\n",
    "%matplotlib inline\n",
    "import re\n",
    "import pymc3 as pm\n",
    "import matplotlib.ticker as tk\n",
    "import re\n",
    "from sklearn.model_selection import StratifiedKFold\n",
    "import pickle"
   ]
  },
  {
   "cell_type": "markdown",
   "metadata": {},
   "source": [
    "## Import data"
   ]
  },
  {
   "cell_type": "code",
   "execution_count": 108,
   "metadata": {},
   "outputs": [],
   "source": [
    "df = pd.read_csv('outputs/ala1_trials_clean.csv')\n",
    "df = df.rename(columns={'project_name': 'basis', 'cluster__n_clusters': 'n', 'test_mean': 'y'}).\\\n",
    "loc[:, ['basis', 'y', 'n']]"
   ]
  },
  {
   "cell_type": "markdown",
   "metadata": {},
   "source": [
    "## Scale predictors\n",
    "\n"
   ]
  },
  {
   "cell_type": "code",
   "execution_count": 109,
   "metadata": {},
   "outputs": [
    {
     "data": {
      "text/html": [
       "<div>\n",
       "<style scoped>\n",
       "    .dataframe tbody tr th:only-of-type {\n",
       "        vertical-align: middle;\n",
       "    }\n",
       "\n",
       "    .dataframe tbody tr th {\n",
       "        vertical-align: top;\n",
       "    }\n",
       "\n",
       "    .dataframe thead th {\n",
       "        text-align: right;\n",
       "    }\n",
       "</style>\n",
       "<table border=\"1\" class=\"dataframe\">\n",
       "  <thead>\n",
       "    <tr style=\"text-align: right;\">\n",
       "      <th></th>\n",
       "      <th>0</th>\n",
       "      <th>1</th>\n",
       "      <th>2</th>\n",
       "      <th>3</th>\n",
       "      <th>4</th>\n",
       "      <th>5</th>\n",
       "      <th>6</th>\n",
       "      <th>7</th>\n",
       "      <th>8</th>\n",
       "      <th>9</th>\n",
       "      <th>...</th>\n",
       "      <th>327</th>\n",
       "      <th>328</th>\n",
       "      <th>329</th>\n",
       "      <th>330</th>\n",
       "      <th>331</th>\n",
       "      <th>332</th>\n",
       "      <th>333</th>\n",
       "      <th>334</th>\n",
       "      <th>335</th>\n",
       "      <th>336</th>\n",
       "    </tr>\n",
       "  </thead>\n",
       "  <tbody>\n",
       "    <tr>\n",
       "      <th>basis</th>\n",
       "      <td>psi</td>\n",
       "      <td>rmsd</td>\n",
       "      <td>phipsi</td>\n",
       "      <td>phipsi</td>\n",
       "      <td>phi</td>\n",
       "      <td>positions</td>\n",
       "      <td>rmsd</td>\n",
       "      <td>phi</td>\n",
       "      <td>psi</td>\n",
       "      <td>positions</td>\n",
       "      <td>...</td>\n",
       "      <td>phipsi</td>\n",
       "      <td>rmsd</td>\n",
       "      <td>psi</td>\n",
       "      <td>positions</td>\n",
       "      <td>rmsd</td>\n",
       "      <td>rmsd</td>\n",
       "      <td>phipsi</td>\n",
       "      <td>rmsd</td>\n",
       "      <td>rmsd</td>\n",
       "      <td>rmsd</td>\n",
       "    </tr>\n",
       "    <tr>\n",
       "      <th>y</th>\n",
       "      <td>1.79637</td>\n",
       "      <td>1.70957</td>\n",
       "      <td>3.27798</td>\n",
       "      <td>3.28693</td>\n",
       "      <td>1.98877</td>\n",
       "      <td>3.29715</td>\n",
       "      <td>1.70869</td>\n",
       "      <td>1.98756</td>\n",
       "      <td>1.79831</td>\n",
       "      <td>3.16998</td>\n",
       "      <td>...</td>\n",
       "      <td>3.29081</td>\n",
       "      <td>1.71039</td>\n",
       "      <td>1.79486</td>\n",
       "      <td>3.31378</td>\n",
       "      <td>1.71251</td>\n",
       "      <td>1.70886</td>\n",
       "      <td>3.28592</td>\n",
       "      <td>1.71229</td>\n",
       "      <td>1.71155</td>\n",
       "      <td>1.70997</td>\n",
       "    </tr>\n",
       "    <tr>\n",
       "      <th>n</th>\n",
       "      <td>77</td>\n",
       "      <td>554</td>\n",
       "      <td>97</td>\n",
       "      <td>95</td>\n",
       "      <td>362</td>\n",
       "      <td>440</td>\n",
       "      <td>942</td>\n",
       "      <td>169</td>\n",
       "      <td>96</td>\n",
       "      <td>33</td>\n",
       "      <td>...</td>\n",
       "      <td>274</td>\n",
       "      <td>156</td>\n",
       "      <td>519</td>\n",
       "      <td>390</td>\n",
       "      <td>150</td>\n",
       "      <td>628</td>\n",
       "      <td>292</td>\n",
       "      <td>127</td>\n",
       "      <td>155</td>\n",
       "      <td>47</td>\n",
       "    </tr>\n",
       "    <tr>\n",
       "      <th>n_s</th>\n",
       "      <td>0.0638945</td>\n",
       "      <td>0.547667</td>\n",
       "      <td>0.0841785</td>\n",
       "      <td>0.0821501</td>\n",
       "      <td>0.352941</td>\n",
       "      <td>0.432049</td>\n",
       "      <td>0.941176</td>\n",
       "      <td>0.157201</td>\n",
       "      <td>0.0831643</td>\n",
       "      <td>0.0192698</td>\n",
       "      <td>...</td>\n",
       "      <td>0.263692</td>\n",
       "      <td>0.144016</td>\n",
       "      <td>0.51217</td>\n",
       "      <td>0.381339</td>\n",
       "      <td>0.137931</td>\n",
       "      <td>0.622718</td>\n",
       "      <td>0.281947</td>\n",
       "      <td>0.114604</td>\n",
       "      <td>0.143002</td>\n",
       "      <td>0.0334686</td>\n",
       "    </tr>\n",
       "  </tbody>\n",
       "</table>\n",
       "<p>4 rows × 337 columns</p>\n",
       "</div>"
      ],
      "text/plain": [
       "             0         1          2          3         4          5    \\\n",
       "basis        psi      rmsd     phipsi     phipsi       phi  positions   \n",
       "y        1.79637   1.70957    3.27798    3.28693   1.98877    3.29715   \n",
       "n             77       554         97         95       362        440   \n",
       "n_s    0.0638945  0.547667  0.0841785  0.0821501  0.352941   0.432049   \n",
       "\n",
       "            6         7          8          9    ...       327       328  \\\n",
       "basis      rmsd       phi        psi  positions  ...    phipsi      rmsd   \n",
       "y       1.70869   1.98756    1.79831    3.16998  ...   3.29081   1.71039   \n",
       "n           942       169         96         33  ...       274       156   \n",
       "n_s    0.941176  0.157201  0.0831643  0.0192698  ...  0.263692  0.144016   \n",
       "\n",
       "           329        330       331       332       333       334       335  \\\n",
       "basis      psi  positions      rmsd      rmsd    phipsi      rmsd      rmsd   \n",
       "y      1.79486    3.31378   1.71251   1.70886   3.28592   1.71229   1.71155   \n",
       "n          519        390       150       628       292       127       155   \n",
       "n_s    0.51217   0.381339  0.137931  0.622718  0.281947  0.114604  0.143002   \n",
       "\n",
       "             336  \n",
       "basis       rmsd  \n",
       "y        1.70997  \n",
       "n             47  \n",
       "n_s    0.0334686  \n",
       "\n",
       "[4 rows x 337 columns]"
      ]
     },
     "execution_count": 109,
     "metadata": {},
     "output_type": "execute_result"
    }
   ],
   "source": [
    "# to_log = ['n']\n",
    "# for col in to_log: \n",
    "#     df.loc[:, col] = np.log(df[col])\n",
    "\n",
    "to_scale = ['n']\n",
    "scaler = preprocessing.MinMaxScaler()\n",
    "vars_scaled = pd.DataFrame(scaler.fit_transform(df.loc[:, to_scale]), columns=[x+'_s' for x in to_scale])\n",
    "df = df.join(vars_scaled)\n",
    "df.T"
   ]
  },
  {
   "cell_type": "code",
   "execution_count": 110,
   "metadata": {},
   "outputs": [
    {
     "data": {
      "text/plain": [
       "<matplotlib.collections.PathCollection at 0x13edbcc50>"
      ]
     },
     "execution_count": 110,
     "metadata": {},
     "output_type": "execute_result"
    },
    {
     "data": {
      "image/png": "[encoded data removed]",
      "text/plain": [
       "<Figure size 432x288 with 1 Axes>"
      ]
     },
     "metadata": {
      "needs_background": "light"
     },
     "output_type": "display_data"
    }
   ],
   "source": [
    "x = df.loc[df['basis']=='phipsi', 'n_s']\n",
    "y = df.loc[df['basis']=='phipsi', 'y']\n",
    "plt.scatter(x, y)"
   ]
  },
  {
   "cell_type": "markdown",
   "metadata": {},
   "source": [
    "## Create design matrix"
   ]
  },
  {
   "cell_type": "code",
   "execution_count": 111,
   "metadata": {},
   "outputs": [],
   "source": [
    "y = df.loc[:, 'y']\n",
    "X = df.loc[:, df.columns.difference(['y'])]\n",
    "X_c = pt.dmatrix('~ 0 + n_s + C(basis)', data=df, return_type='dataframe')\n",
    "X_c = X_c.rename(columns=lambda x: re.sub('C|\\\\(|\\\\)|\\\\[|\\\\]','',x))"
   ]
  },
  {
   "cell_type": "markdown",
   "metadata": {},
   "source": [
    "## Model fitting functions"
   ]
  },
  {
   "cell_type": "code",
   "execution_count": 112,
   "metadata": {},
   "outputs": [],
   "source": [
    "def gamma(alpha, beta):\n",
    "    def g(x):\n",
    "        return pm.Gamma(x, alpha=alpha, beta=beta)\n",
    "    return g\n",
    "\n",
    "def hcauchy(beta):\n",
    "    def g(x):\n",
    "        return pm.HalfCauchy(x, beta=beta)\n",
    "    return g\n",
    "\n",
    "\n",
    "def fit_model_1(y, X, kernel_type='rbf'):\n",
    "    \"\"\"\n",
    "    function to return a pymc3 model\n",
    "    y : dependent variable\n",
    "    X : independent variables\n",
    "    prop_Xu : number of inducing varibles to use\n",
    "    \n",
    "    X, y are dataframes. We'll use the column names. \n",
    "    \"\"\"\n",
    "    with pm.Model() as model:\n",
    "        # Covert arrays\n",
    "        X_a = X.values\n",
    "        y_a = y.values\n",
    "        X_cols = list(X.columns)\n",
    "        \n",
    "        # Globals\n",
    "        prop_Xu = 0.1 # proportion of observations to use as inducing variables\n",
    "        l_prior = gamma(1, 0.05)\n",
    "        eta_prior = hcauchy(2)\n",
    "        sigma_prior = hcauchy(2)\n",
    "\n",
    "        # Kernels\n",
    "        # 3 way interaction\n",
    "        eta = eta_prior('eta')\n",
    "        cov = eta**2\n",
    "        for i in range(X_a.shape[1]):\n",
    "            var_lab = 'l_'+X_cols[i]\n",
    "            if kernel_type.lower()=='rbf':\n",
    "                cov = cov*pm.gp.cov.ExpQuad(X_a.shape[1], ls=l_prior(var_lab), active_dims=[i])\n",
    "            if kernel_type.lower()=='exponential':\n",
    "                cov = cov*pm.gp.cov.Exponential(X_a.shape[1], ls=l_prior(var_lab), active_dims=[i])\n",
    "            if kernel_type.lower()=='m52':\n",
    "                cov = cov*pm.gp.cov.Matern52(X_a.shape[1], ls=l_prior(var_lab), active_dims=[i])\n",
    "            if kernel_type.lower()=='m32':\n",
    "                cov = cov*pm.gp.cov.Matern32(X_a.shape[1], ls=l_prior(var_lab), active_dims=[i])\n",
    "\n",
    "        # Covariance model\n",
    "        cov_tot = cov \n",
    "\n",
    "        # Model\n",
    "        gp = pm.gp.MarginalSparse(cov_func=cov_tot, approx=\"FITC\")\n",
    "\n",
    "        # Noise model\n",
    "        sigma_n =sigma_prior('sigma_n')\n",
    "\n",
    "        # Inducing variables\n",
    "        num_Xu = int(X_a.shape[0]*prop_Xu)\n",
    "        print(type(num_Xu))\n",
    "        print(type(X_a))\n",
    "        Xu = pm.gp.util.kmeans_inducing_points(num_Xu, X_a)\n",
    "\n",
    "        # Marginal likelihood\n",
    "        y_ = gp.marginal_likelihood('y_', X=X_a, y=y_a,Xu=Xu, noise=sigma_n)\n",
    "        mp = pm.find_MAP()\n",
    "        \n",
    "    return gp, mp, model"
   ]
  },
  {
   "cell_type": "markdown",
   "metadata": {},
   "source": [
    "## Fit mml model"
   ]
  },
  {
   "cell_type": "code",
   "execution_count": 113,
   "metadata": {},
   "outputs": [
    {
     "name": "stdout",
     "output_type": "stream",
     "text": [
      "<class 'int'>\n",
      "<class 'numpy.ndarray'>\n"
     ]
    },
    {
     "name": "stderr",
     "output_type": "stream",
     "text": [
      "/Users/robertarbon/opt/miniconda3/envs/analysis/lib/python3.6/site-packages/theano/tensor/basic.py:6611: FutureWarning: Using a non-tuple sequence for multidimensional indexing is deprecated; use `arr[tuple(seq)]` instead of `arr[seq]`. In the future this will be interpreted as an array index, `arr[np.array(seq)]`, which will result either in an error or a different result.\n",
      "  result[diagonal_slice] = x\n",
      "logp = 717.57, ||grad|| = 0.34634: 100%|██████████| 110/110 [00:00<00:00, 117.53it/s] \n"
     ]
    }
   ],
   "source": [
    "gp, mp, model = fit_model_1(y, X_c, kernel_type='rbf')"
   ]
  },
  {
   "cell_type": "markdown",
   "metadata": {},
   "source": [
    "## Plot MML model"
   ]
  },
  {
   "cell_type": "markdown",
   "metadata": {},
   "source": [
    "Create new data matrix"
   ]
  },
  {
   "cell_type": "code",
   "execution_count": 114,
   "metadata": {
    "scrolled": false
   },
   "outputs": [],
   "source": [
    "# Create mesh\n",
    "n_new = np.arange(0, 1000, 10)\n",
    "bases = X['basis'].unique()\n",
    "x1, x2 = np.meshgrid(n_new, bases)\n",
    "\n",
    "# scale n: \n",
    "# scaler_new = preprocessing.MinMaxScaler()\n",
    "x1_s = scaler.transform(x1.reshape(-1, 1))\n",
    "\n",
    "x1, x1_s, x2 = x1.flatten(), x1_s.flatten(), x2.flatten()\n",
    "\n",
    "# Data frame: \n",
    "X_new = pd.DataFrame({'n_s': x1_s, 'basis': x2, 'n': x1}, index=np.arange(len(x2)))\n",
    "\n",
    "# Make design matrix\n",
    "X_new_c = pt.dmatrix('~ 0 + n_s + C(basis)', data=X_new, return_type='dataframe')\n",
    "X_new_c = X_new_c.rename(columns=lambda x: re.sub('C|\\\\(|\\\\)|\\\\[|\\\\]','',x))"
   ]
  },
  {
   "cell_type": "code",
   "execution_count": 115,
   "metadata": {},
   "outputs": [],
   "source": [
    "# Get predictions for evalution\n",
    "with model:\n",
    "    # predict latent\n",
    "    mu, var = gp.predict(X_new_c.values, point=mp, diag=True,pred_noise=False)\n",
    "    sd_f = np.sqrt(var)\n",
    "\n",
    "    # predict target (includes noise)\n",
    "    _, var = gp.predict(X_new_c.values, point=mp, diag=True,pred_noise=True)\n",
    "    sd_y = np.sqrt(var)\n",
    "\n",
    "# put in data frame\n",
    "pred = pd.DataFrame({'f_pred': mu, 'sd_f': sd_f, 'sd_y': sd_y})\n",
    "pred = pred.join(X_new)"
   ]
  },
  {
   "cell_type": "markdown",
   "metadata": {},
   "source": [
    "Create lb and ub for plotting"
   ]
  },
  {
   "cell_type": "code",
   "execution_count": 116,
   "metadata": {},
   "outputs": [],
   "source": [
    "pred.loc[:, 'lb'] = pred['f_pred']-2*pred['sd_f']\n",
    "pred.loc[:, 'ub'] = pred['f_pred']+2*pred['sd_f']"
   ]
  },
  {
   "cell_type": "code",
   "execution_count": 117,
   "metadata": {},
   "outputs": [
    {
     "data": {
      "image/png": "[encoded data removed]",
      "text/plain": [
       "<Figure size 1080x216 with 5 Axes>"
      ]
     },
     "metadata": {
      "needs_background": "light"
     },
     "output_type": "display_data"
    }
   ],
   "source": [
    "with sns.plotting_context('paper', font_scale=1.25):\n",
    "    g = sns.FacetGrid(data=pred, col='basis', sharey=False)\n",
    "    g.map(plt.plot, 'n', 'f_pred')\n",
    "    g.map(plt.fill_between, 'n', 'lb', 'ub', alpha=0.5 )\n",
    "    # plot the original data\n",
    "    for ax, col in zip(g.axes[0, :].flatten(), g.col_names):\n",
    "        idx = X['basis']==col\n",
    "        ax.scatter(X.loc[idx, 'n'], y[idx], marker='x', color='k', alpha=0.5)\n",
    "    \n",
    "#     g.map(plt.scatter, '')\n",
    "#     plt.fill_between(X_new.flatten(), mu - 2*sd, mu + 2*sd, color=\"r\", alpha=0.5)"
   ]
  }
 ],
 "metadata": {
  "kernelspec": {
   "display_name": "Python 3",
   "language": "python",
   "name": "python3"
  },
  "language_info": {
   "codemirror_mode": {
    "name": "ipython",
    "version": 3
   },
   "file_extension": ".py",
   "mimetype": "text/x-python",
   "name": "python",
   "nbconvert_exporter": "python",
   "pygments_lexer": "ipython3",
   "version": "3.6.10"
  }
 },
 "nbformat": 4,
 "nbformat_minor": 4
}
