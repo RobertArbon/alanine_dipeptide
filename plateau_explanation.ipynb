{
 "cells": [
  {
   "cell_type": "markdown",
   "metadata": {},
   "source": [
    "This notebook tries to explain why there is a plateau with respect to the number of basis states. "
   ]
  },
  {
   "cell_type": "code",
   "execution_count": 1,
   "metadata": {},
   "outputs": [],
   "source": [
    "import pandas as pd\n",
    "import patsy as pt\n",
    "import numpy as np\n",
    "import seaborn as sns\n",
    "import matplotlib.pyplot as plt\n",
    "from sklearn import preprocessing\n",
    "from sklearn import model_selection\n",
    "import matplotlib.ticker as tk\n",
    "import re\n",
    "import pickle\n",
    "from scipy.stats import norm\n",
    "from collections import OrderedDict\n",
    "from glob import glob\n",
    "from pyemma.coordinates.clustering import KmeansClustering\n",
    "from pyemma.msm import MaximumLikelihoodMSM\n",
    "import time"
   ]
  },
  {
   "cell_type": "code",
   "execution_count": 2,
   "metadata": {},
   "outputs": [],
   "source": [
    "def score_trial(suggest, data_dir, ix=0, n_splits = 20, lag = 9, k = 5, method = 'VAMP2', stride = 10, \n",
    "                n_trajs = 750, test_size = 0.5, max_iter = 1000):\n",
    "#     GLOBAL HYPERPARAMETERS\n",
    "#     n_splits = 20 # CV splits\n",
    "#     lag = 9 # msm lag time\n",
    "#     k = 5 # num eigenvalues in score\n",
    "#     method = 'VAMP2' # score method\n",
    "#     stride = 10 # stride for clustering\n",
    "#     n_trajs = 750 # number of trajectories - for checking whether we've loaded all the data. \n",
    "#     test_size = 0.5 # train/test split\n",
    "#     max_iter = 1000 # for clustering algo\n",
    "    \n",
    "    # SUGGESTED HYPERPARAMETERS \n",
    "    # the 'suggest' dataframe \n",
    "    n = int(suggest.loc[suggest.index[ix], 'n'])\n",
    "    feat = suggest.loc[suggest.index[ix], 'basis']\n",
    "    feat_dir = data_dir + feat\n",
    "\n",
    "    # load data\n",
    "    traj_paths = glob(feat_dir+'/*.npy')\n",
    "    assert len(traj_paths) == n_trajs\n",
    "    trajs = [np.load(x) for x in traj_paths]\n",
    "\n",
    "    # cross-validation loop\n",
    "    cv = model_selection.ShuffleSplit(n_splits=n_splits, test_size=test_size)\n",
    "    test_scores = []\n",
    "    train_scores = []\n",
    "    \n",
    "    for train_idx, test_idx in cv.split(trajs):\n",
    "        train = [trajs[i] for i in train_idx]\n",
    "        test = [trajs[i] for i in test_idx]\n",
    "\n",
    "        # pipeline\n",
    "        cluster = KmeansClustering(n_clusters=n, max_iter=max_iter, stride=stride)\n",
    "        mod = MaximumLikelihoodMSM(lag=lag, score_k=k, score_method=method)\n",
    "\n",
    "        # train\n",
    "        z = cluster.fit_transform(train)\n",
    "        z = [x.flatten() for x in z]\n",
    "        mod.fit(z)\n",
    "        score = mod.score(z)\n",
    "        train_scores.append(score)\n",
    "        \n",
    "        # test\n",
    "        z = cluster.transform(test)\n",
    "        z = [x.flatten() for x in z]\n",
    "        score = mod.score(z)\n",
    "        test_scores.append(score)\n",
    "        \n",
    "    return {'n': n, 'basis': feat, 'test_scores': test_scores, 'train_scores': train_scores}\n",
    "\n",
    "\n"
   ]
  },
  {
   "cell_type": "code",
   "execution_count": 3,
   "metadata": {},
   "outputs": [],
   "source": [
    "# These labels should self consistent! \n",
    "relabel = {'project_name': 'basis', \n",
    "           'cluster__n_clusters': 'n'}\n",
    "\n",
    "search_space = OrderedDict([\n",
    "    ('basis', np.array(['psi', 'phi', 'rmsd', 'positions', 'phipsi'])), \n",
    "    ('n', np.arange(10, 1001, 10, dtype='float64'))])\n",
    "predictors = list(search_space.keys())\n",
    "target = 'test_mean'\n",
    "\n",
    "# For the response surface. \n",
    "formula = '0 + np.log(n) + C(basis)'\n",
    "kernel = 'm52'\n",
    "\n",
    "n_basis = search_space['basis'].shape[0]\n",
    "\n",
    "# Start calculating the surface with this many observations\n",
    "start_n = 40 # start_n/n_basis  = average per feature\n",
    "\n",
    "# start optimization with this many observations\n",
    "start_bayes_n = 50 # start_bayes_n/n_basis  = average per feature\n",
    "\n",
    "# number of Bayesian optimisation trials\n",
    "num_trials = 10\n",
    "\n",
    "# number of independent iterations\n",
    "n_iters = 10\n",
    "\n",
    "# number of CV splits\n",
    "n_splits = 20\n",
    "\n",
    "# Directory locations\n",
    "# This directory\n",
    "root_dir = '/Users/robertarbon/OneDrive - University of Bristol/Research/optimize_msms/Ala1/'\n",
    "# This is where the 'random' trials come from. \n",
    "input_dir = root_dir+'outputs/'\n",
    "# this is where all the output goes\n",
    "output_dir = root_dir+'outputs/bayes_opt_gp_m52/'\n",
    "# this is where the features are\n",
    "data_dir = root_dir+'data/features/'"
   ]
  },
  {
   "cell_type": "code",
   "execution_count": 4,
   "metadata": {},
   "outputs": [],
   "source": [
    "feat_dir = data_dir + 'phipsi'\n",
    "\n",
    "traj_paths = glob(feat_dir+'/*.npy')\n",
    "trajs = [np.load(x) for x in traj_paths]"
   ]
  },
  {
   "cell_type": "code",
   "execution_count": 24,
   "metadata": {
    "scrolled": true
   },
   "outputs": [
    {
     "name": "stderr",
     "output_type": "stream",
     "text": [
      "initialize kmeans++ centers:   0%|          | 0/100 [00:00<?, ?it/s]\n",
      "100%|██████████| 100/100 [00:00<00:00, 124.68it/s]                           \n",
      "\n",
      "kmeans iterations:   0%|          | 1/1000 [00:00<14:28,  1.15it/s]\u001b[A\n",
      "kmeans iterations:   0%|          | 2/1000 [00:00<10:43,  1.55it/s]\u001b[A\n",
      "kmeans iterations:   0%|          | 3/1000 [00:01<08:04,  2.06it/s]\u001b[A\n",
      "kmeans iterations:   0%|          | 4/1000 [00:01<06:10,  2.69it/s]\u001b[A\n",
      "kmeans iterations:   0%|          | 5/1000 [00:01<04:57,  3.35it/s]\u001b[A\n",
      "kmeans iterations:   1%|          | 7/1000 [00:01<03:52,  4.27it/s]\u001b[A\n",
      "kmeans iterations:   1%|          | 9/1000 [00:01<03:06,  5.31it/s]\u001b[A\n",
      "kmeans iterations:   1%|          | 10/1000 [00:01<02:43,  6.07it/s]\u001b[A\n",
      "kmeans iterations:   1%|          | 11/1000 [00:01<02:28,  6.64it/s]\u001b[A\n",
      "kmeans iterations:   1%|          | 12/1000 [00:02<02:15,  7.28it/s]\u001b[A\n",
      "kmeans iterations:   1%|▏         | 13/1000 [00:02<02:10,  7.54it/s]\u001b[A\n",
      "kmeans iterations:   2%|▏         | 15/1000 [00:02<01:55,  8.55it/s]\u001b[A\n",
      "100%|██████████| 1000/1000 [00:02<00:00, 12.20it/s]                 \u001b[A\n",
      "100%|██████████| 1000/1000 [00:02<00:00, 402.26it/s][A\n",
      "initialize kmeans++ centers:   0%|          | 0/500 [00:00<?, ?it/s]\n",
      "100%|██████████| 500/500 [00:04<00:00, 104.82it/s]                             \n",
      "\n",
      "kmeans iterations:   0%|          | 1/1000 [00:05<1:25:52,  5.16s/it]\u001b[A\n",
      "kmeans iterations:   0%|          | 2/1000 [00:05<1:02:18,  3.75s/it]\u001b[A\n",
      "100%|██████████| 1000/1000 [00:06<00:00,  2.62s/it]                  \u001b[A\n",
      "100%|██████████| 1000/1000 [00:06<00:00, 154.53it/s][A\n",
      "initialize kmeans++ centers:   0%|          | 0/1000 [00:00<?, ?it/s]\n",
      "100%|██████████| 1000/1000 [00:07<00:00, 140.84it/s]                            \n",
      "\n",
      "kmeans iterations:   0%|          | 1/1000 [00:07<2:07:32,  7.66s/it]\u001b[A\n",
      "kmeans iterations:   0%|          | 2/1000 [00:08<1:32:23,  5.55s/it]\u001b[A\n",
      "100%|██████████| 1000/1000 [00:08<00:00,  3.89s/it]                  \u001b[A\n",
      "100%|██████████| 1000/1000 [00:09<00:00, 110.86it/s][A\n",
      "initialize kmeans++ centers:   0%|          | 0/10000 [00:00<?, ?it/s]\n",
      "100%|██████████| 10000/10000 [00:39<00:00, 250.08it/s]                            \n",
      "\n",
      "kmeans iterations:   0%|          | 1/1000 [00:47<13:11:32, 47.54s/it]\u001b[A\n",
      "100%|██████████| 1000/1000 [00:54<00:00, 33.28s/it]                   \u001b[A\n",
      "100%|██████████| 1000/1000 [00:54<00:00, 18.39it/s]\u001b[A\n"
     ]
    }
   ],
   "source": [
    "zs = []\n",
    "for n in [100, 500, 1000, 10000]:\n",
    "    stride = 10\n",
    "    max_iter = 1000\n",
    "    cluster = KmeansClustering(n_clusters=n, max_iter=max_iter, stride=stride)\n",
    "    zs.append(cluster.fit_transform(trajs))"
   ]
  },
  {
   "cell_type": "code",
   "execution_count": 23,
   "metadata": {},
   "outputs": [
    {
     "data": {
      "image/png": "[encoded data removed]",
      "text/plain": [
       "<Figure size 432x288 with 3 Axes>"
      ]
     },
     "metadata": {
      "needs_background": "light"
     },
     "output_type": "display_data"
    }
   ],
   "source": [
    "fig, axes = plt.subplots(3, sharex=True)\n",
    "for i in range(3):\n",
    "    u, c = np.unique(np.concatenate(zs[i]), return_counts=True)\n",
    "    ix = np.argsort(c)\n",
    "    c[ix]\n",
    "    sns.distplot(c, ax=axes[i],kde=False)"
   ]
  },
  {
   "cell_type": "code",
   "execution_count": 18,
   "metadata": {},
   "outputs": [
    {
     "data": {
      "text/plain": [
       "<BarContainer object of 500 artists>"
      ]
     },
     "execution_count": 18,
     "metadata": {},
     "output_type": "execute_result"
    },
    {
     "data": {
      "image/png": "[encoded data removed]",
      "text/plain": [
       "<Figure size 432x288 with 1 Axes>"
      ]
     },
     "metadata": {
      "needs_background": "light"
     },
     "output_type": "display_data"
    }
   ],
   "source": []
  },
  {
   "cell_type": "code",
   "execution_count": 92,
   "metadata": {},
   "outputs": [
    {
     "data": {
      "application/vnd.jupyter.widget-view+json": {
       "model_id": "",
       "version_major": 2,
       "version_minor": 0
      },
      "text/plain": [
       "HBox(children=(FloatProgress(value=0.0, description='initialize kmeans++ centers', layout=Layout(flex='2'), st…"
      ]
     },
     "metadata": {},
     "output_type": "display_data"
    },
    {
     "data": {
      "application/vnd.jupyter.widget-view+json": {
       "model_id": "",
       "version_major": 2,
       "version_minor": 0
      },
      "text/plain": [
       "HBox(children=(FloatProgress(value=0.0, description='kmeans iterations', layout=Layout(flex='2'), max=1000.0, …"
      ]
     },
     "metadata": {},
     "output_type": "display_data"
    },
    {
     "data": {
      "application/vnd.jupyter.widget-view+json": {
       "model_id": "",
       "version_major": 2,
       "version_minor": 0
      },
      "text/plain": [
       "HBox(children=(FloatProgress(value=0.0, description='initialize kmeans++ centers', layout=Layout(flex='2'), ma…"
      ]
     },
     "metadata": {},
     "output_type": "display_data"
    },
    {
     "data": {
      "application/vnd.jupyter.widget-view+json": {
       "model_id": "",
       "version_major": 2,
       "version_minor": 0
      },
      "text/plain": [
       "HBox(children=(FloatProgress(value=0.0, description='kmeans iterations', layout=Layout(flex='2'), max=1000.0, …"
      ]
     },
     "metadata": {},
     "output_type": "display_data"
    },
    {
     "data": {
      "application/vnd.jupyter.widget-view+json": {
       "model_id": "",
       "version_major": 2,
       "version_minor": 0
      },
      "text/plain": [
       "HBox(children=(FloatProgress(value=0.0, description='initialize kmeans++ centers', layout=Layout(flex='2'), ma…"
      ]
     },
     "metadata": {},
     "output_type": "display_data"
    },
    {
     "data": {
      "application/vnd.jupyter.widget-view+json": {
       "model_id": "",
       "version_major": 2,
       "version_minor": 0
      },
      "text/plain": [
       "HBox(children=(FloatProgress(value=0.0, description='kmeans iterations', layout=Layout(flex='2'), max=1000.0, …"
      ]
     },
     "metadata": {},
     "output_type": "display_data"
    },
    {
     "data": {
      "application/vnd.jupyter.widget-view+json": {
       "model_id": "",
       "version_major": 2,
       "version_minor": 0
      },
      "text/plain": [
       "HBox(children=(FloatProgress(value=0.0, description='initialize kmeans++ centers', layout=Layout(flex='2'), ma…"
      ]
     },
     "metadata": {},
     "output_type": "display_data"
    },
    {
     "data": {
      "application/vnd.jupyter.widget-view+json": {
       "model_id": "",
       "version_major": 2,
       "version_minor": 0
      },
      "text/plain": [
       "HBox(children=(FloatProgress(value=0.0, description='kmeans iterations', layout=Layout(flex='2'), max=1000.0, …"
      ]
     },
     "metadata": {},
     "output_type": "display_data"
    },
    {
     "ename": "KeyboardInterrupt",
     "evalue": "",
     "output_type": "error",
     "traceback": [
      "\u001b[0;31m---------------------------------------------------------------------------\u001b[0m",
      "\u001b[0;31mKeyboardInterrupt\u001b[0m                         Traceback (most recent call last)",
      "\u001b[0;32m<ipython-input-92-d93c98deac1d>\u001b[0m in \u001b[0;36m<module>\u001b[0;34m\u001b[0m\n\u001b[1;32m     46\u001b[0m         \u001b[0mtest_scores\u001b[0m\u001b[0;34m[\u001b[0m\u001b[0;34m'k'\u001b[0m\u001b[0;34m]\u001b[0m\u001b[0;34m.\u001b[0m\u001b[0mappend\u001b[0m\u001b[0;34m(\u001b[0m\u001b[0mk\u001b[0m\u001b[0;34m)\u001b[0m\u001b[0;34m\u001b[0m\u001b[0;34m\u001b[0m\u001b[0m\n\u001b[1;32m     47\u001b[0m         \u001b[0mtest_scores\u001b[0m\u001b[0;34m[\u001b[0m\u001b[0;34m'n'\u001b[0m\u001b[0;34m]\u001b[0m\u001b[0;34m.\u001b[0m\u001b[0mappend\u001b[0m\u001b[0;34m(\u001b[0m\u001b[0mn\u001b[0m\u001b[0;34m)\u001b[0m\u001b[0;34m\u001b[0m\u001b[0;34m\u001b[0m\u001b[0m\n\u001b[0;32m---> 48\u001b[0;31m         \u001b[0mtest_scores\u001b[0m\u001b[0;34m[\u001b[0m\u001b[0;34m'score'\u001b[0m\u001b[0;34m]\u001b[0m\u001b[0;34m.\u001b[0m\u001b[0mappend\u001b[0m\u001b[0;34m(\u001b[0m\u001b[0mmod\u001b[0m\u001b[0;34m.\u001b[0m\u001b[0mscore\u001b[0m\u001b[0;34m(\u001b[0m\u001b[0mz_test\u001b[0m\u001b[0;34m,\u001b[0m \u001b[0mscore_k\u001b[0m \u001b[0;34m=\u001b[0m\u001b[0mk\u001b[0m\u001b[0;34m)\u001b[0m\u001b[0;34m)\u001b[0m\u001b[0;34m\u001b[0m\u001b[0;34m\u001b[0m\u001b[0m\n\u001b[0m",
      "\u001b[0;32m~/opt/miniconda3/envs/analysis/lib/python3.6/site-packages/pyemma/msm/estimators/_msm_estimator_base.py\u001b[0m in \u001b[0;36mscore\u001b[0;34m(self, dtrajs, score_method, score_k)\u001b[0m\n\u001b[1;32m    341\u001b[0m         \u001b[0;32mfrom\u001b[0m \u001b[0mpyemma\u001b[0m\u001b[0;34m.\u001b[0m\u001b[0mutil\u001b[0m\u001b[0;34m.\u001b[0m\u001b[0mmetrics\u001b[0m \u001b[0;32mimport\u001b[0m \u001b[0mvamp_score\u001b[0m\u001b[0;34m\u001b[0m\u001b[0;34m\u001b[0m\u001b[0m\n\u001b[1;32m    342\u001b[0m         return vamp_score(K, C00_train, C0t_train, Ctt_train, C00_test, C0t_test, Ctt_test,\n\u001b[0;32m--> 343\u001b[0;31m                           k=self.score_k, score=self.score_method)\n\u001b[0m\u001b[1;32m    344\u001b[0m \u001b[0;34m\u001b[0m\u001b[0m\n\u001b[1;32m    345\u001b[0m     \u001b[0;32mdef\u001b[0m \u001b[0m_blocksplit_dtrajs\u001b[0m\u001b[0;34m(\u001b[0m\u001b[0mself\u001b[0m\u001b[0;34m,\u001b[0m \u001b[0mdtrajs\u001b[0m\u001b[0;34m,\u001b[0m \u001b[0msliding\u001b[0m\u001b[0;34m)\u001b[0m\u001b[0;34m:\u001b[0m\u001b[0;34m\u001b[0m\u001b[0;34m\u001b[0m\u001b[0m\n",
      "\u001b[0;32m~/opt/miniconda3/envs/analysis/lib/python3.6/site-packages/pyemma/util/metrics.py\u001b[0m in \u001b[0;36mvamp_score\u001b[0;34m(K, C00_train, C0t_train, Ctt_train, C00_test, C0t_test, Ctt_test, k, score)\u001b[0m\n\u001b[1;32m    224\u001b[0m         \u001b[0;32mreturn\u001b[0m \u001b[0mvamp_1_score\u001b[0m\u001b[0;34m(\u001b[0m\u001b[0mK\u001b[0m\u001b[0;34m,\u001b[0m \u001b[0mC00_train\u001b[0m\u001b[0;34m,\u001b[0m \u001b[0mC0t_train\u001b[0m\u001b[0;34m,\u001b[0m \u001b[0mCtt_train\u001b[0m\u001b[0;34m,\u001b[0m \u001b[0mC00_test\u001b[0m\u001b[0;34m,\u001b[0m \u001b[0mC0t_test\u001b[0m\u001b[0;34m,\u001b[0m \u001b[0mCtt_test\u001b[0m\u001b[0;34m,\u001b[0m \u001b[0mk\u001b[0m\u001b[0;34m=\u001b[0m\u001b[0mk\u001b[0m\u001b[0;34m)\u001b[0m\u001b[0;34m\u001b[0m\u001b[0;34m\u001b[0m\u001b[0m\n\u001b[1;32m    225\u001b[0m     \u001b[0;32melif\u001b[0m \u001b[0mscore\u001b[0m\u001b[0;34m.\u001b[0m\u001b[0mlower\u001b[0m\u001b[0;34m(\u001b[0m\u001b[0;34m)\u001b[0m \u001b[0;34m==\u001b[0m \u001b[0;34m'vamp2'\u001b[0m\u001b[0;34m:\u001b[0m\u001b[0;34m\u001b[0m\u001b[0;34m\u001b[0m\u001b[0m\n\u001b[0;32m--> 226\u001b[0;31m         \u001b[0;32mreturn\u001b[0m \u001b[0mvamp_2_score\u001b[0m\u001b[0;34m(\u001b[0m\u001b[0mK\u001b[0m\u001b[0;34m,\u001b[0m \u001b[0mC00_train\u001b[0m\u001b[0;34m,\u001b[0m \u001b[0mC0t_train\u001b[0m\u001b[0;34m,\u001b[0m \u001b[0mCtt_train\u001b[0m\u001b[0;34m,\u001b[0m \u001b[0mC00_test\u001b[0m\u001b[0;34m,\u001b[0m \u001b[0mC0t_test\u001b[0m\u001b[0;34m,\u001b[0m \u001b[0mCtt_test\u001b[0m\u001b[0;34m,\u001b[0m \u001b[0mk\u001b[0m\u001b[0;34m=\u001b[0m\u001b[0mk\u001b[0m\u001b[0;34m)\u001b[0m\u001b[0;34m\u001b[0m\u001b[0;34m\u001b[0m\u001b[0m\n\u001b[0m\u001b[1;32m    227\u001b[0m     \u001b[0;32melif\u001b[0m \u001b[0mscore\u001b[0m\u001b[0;34m.\u001b[0m\u001b[0mlower\u001b[0m\u001b[0;34m(\u001b[0m\u001b[0;34m)\u001b[0m \u001b[0;34m==\u001b[0m \u001b[0;34m'vampe'\u001b[0m\u001b[0;34m:\u001b[0m\u001b[0;34m\u001b[0m\u001b[0;34m\u001b[0m\u001b[0m\n\u001b[1;32m    228\u001b[0m         \u001b[0;32mreturn\u001b[0m \u001b[0mvamp_e_score\u001b[0m\u001b[0;34m(\u001b[0m\u001b[0mK\u001b[0m\u001b[0;34m,\u001b[0m \u001b[0mC00_train\u001b[0m\u001b[0;34m,\u001b[0m \u001b[0mC0t_train\u001b[0m\u001b[0;34m,\u001b[0m \u001b[0mCtt_train\u001b[0m\u001b[0;34m,\u001b[0m \u001b[0mC00_test\u001b[0m\u001b[0;34m,\u001b[0m \u001b[0mC0t_test\u001b[0m\u001b[0;34m,\u001b[0m \u001b[0mCtt_test\u001b[0m\u001b[0;34m,\u001b[0m \u001b[0mk\u001b[0m\u001b[0;34m=\u001b[0m\u001b[0mk\u001b[0m\u001b[0;34m)\u001b[0m\u001b[0;34m\u001b[0m\u001b[0;34m\u001b[0m\u001b[0m\n",
      "\u001b[0;32m~/opt/miniconda3/envs/analysis/lib/python3.6/site-packages/pyemma/util/metrics.py\u001b[0m in \u001b[0;36mvamp_2_score\u001b[0;34m(K, C00_train, C0t_train, Ctt_train, C00_test, C0t_test, Ctt_test, k)\u001b[0m\n\u001b[1;32m    146\u001b[0m \u001b[0;34m\u001b[0m\u001b[0m\n\u001b[1;32m    147\u001b[0m     \u001b[0;31m# SVD of symmetrized operator in empirical distribution\u001b[0m\u001b[0;34m\u001b[0m\u001b[0;34m\u001b[0m\u001b[0;34m\u001b[0m\u001b[0m\n\u001b[0;32m--> 148\u001b[0;31m     \u001b[0mU\u001b[0m\u001b[0;34m,\u001b[0m \u001b[0m_\u001b[0m\u001b[0;34m,\u001b[0m \u001b[0mV\u001b[0m \u001b[0;34m=\u001b[0m \u001b[0m_svd_sym_koopman\u001b[0m\u001b[0;34m(\u001b[0m\u001b[0mK\u001b[0m\u001b[0;34m,\u001b[0m \u001b[0mC00_train\u001b[0m\u001b[0;34m,\u001b[0m \u001b[0mCtt_train\u001b[0m\u001b[0;34m)\u001b[0m\u001b[0;34m\u001b[0m\u001b[0;34m\u001b[0m\u001b[0m\n\u001b[0m\u001b[1;32m    149\u001b[0m     \u001b[0;32mif\u001b[0m \u001b[0mk\u001b[0m \u001b[0;32mis\u001b[0m \u001b[0;32mnot\u001b[0m \u001b[0;32mNone\u001b[0m\u001b[0;34m:\u001b[0m\u001b[0;34m\u001b[0m\u001b[0;34m\u001b[0m\u001b[0m\n\u001b[1;32m    150\u001b[0m         \u001b[0mU\u001b[0m \u001b[0;34m=\u001b[0m \u001b[0mU\u001b[0m\u001b[0;34m[\u001b[0m\u001b[0;34m:\u001b[0m\u001b[0;34m,\u001b[0m \u001b[0;34m:\u001b[0m\u001b[0mk\u001b[0m\u001b[0;34m]\u001b[0m\u001b[0;34m\u001b[0m\u001b[0;34m\u001b[0m\u001b[0m\n",
      "\u001b[0;32m~/opt/miniconda3/envs/analysis/lib/python3.6/site-packages/pyemma/util/metrics.py\u001b[0m in \u001b[0;36m_svd_sym_koopman\u001b[0;34m(K, C00_train, Ctt_train)\u001b[0m\n\u001b[1;32m     16\u001b[0m     \u001b[0mC0t_re\u001b[0m \u001b[0;34m=\u001b[0m \u001b[0mmdot\u001b[0m\u001b[0;34m(\u001b[0m\u001b[0mC00_train\u001b[0m\u001b[0;34m,\u001b[0m \u001b[0mK\u001b[0m\u001b[0;34m)\u001b[0m\u001b[0;34m\u001b[0m\u001b[0;34m\u001b[0m\u001b[0m\n\u001b[1;32m     17\u001b[0m     \u001b[0;31m# symmetrized operator and SVD\u001b[0m\u001b[0;34m\u001b[0m\u001b[0;34m\u001b[0m\u001b[0;34m\u001b[0m\u001b[0m\n\u001b[0;32m---> 18\u001b[0;31m     \u001b[0mK_sym\u001b[0m \u001b[0;34m=\u001b[0m \u001b[0mmdot\u001b[0m\u001b[0;34m(\u001b[0m\u001b[0mspd_inv_sqrt\u001b[0m\u001b[0;34m(\u001b[0m\u001b[0mC00_train\u001b[0m\u001b[0;34m)\u001b[0m\u001b[0;34m,\u001b[0m \u001b[0mC0t_re\u001b[0m\u001b[0;34m,\u001b[0m \u001b[0mspd_inv_sqrt\u001b[0m\u001b[0;34m(\u001b[0m\u001b[0mCtt_train\u001b[0m\u001b[0;34m)\u001b[0m\u001b[0;34m)\u001b[0m\u001b[0;34m\u001b[0m\u001b[0;34m\u001b[0m\u001b[0m\n\u001b[0m\u001b[1;32m     19\u001b[0m     \u001b[0mU\u001b[0m\u001b[0;34m,\u001b[0m \u001b[0mS\u001b[0m\u001b[0;34m,\u001b[0m \u001b[0mVt\u001b[0m \u001b[0;34m=\u001b[0m \u001b[0mnp\u001b[0m\u001b[0;34m.\u001b[0m\u001b[0mlinalg\u001b[0m\u001b[0;34m.\u001b[0m\u001b[0msvd\u001b[0m\u001b[0;34m(\u001b[0m\u001b[0mK_sym\u001b[0m\u001b[0;34m,\u001b[0m \u001b[0mcompute_uv\u001b[0m\u001b[0;34m=\u001b[0m\u001b[0;32mTrue\u001b[0m\u001b[0;34m,\u001b[0m \u001b[0mfull_matrices\u001b[0m\u001b[0;34m=\u001b[0m\u001b[0;32mFalse\u001b[0m\u001b[0;34m)\u001b[0m\u001b[0;34m\u001b[0m\u001b[0;34m\u001b[0m\u001b[0m\n\u001b[1;32m     20\u001b[0m     \u001b[0;31m# projects back to singular functions of K\u001b[0m\u001b[0;34m\u001b[0m\u001b[0;34m\u001b[0m\u001b[0;34m\u001b[0m\u001b[0m\n",
      "\u001b[0;32m~/opt/miniconda3/envs/analysis/lib/python3.6/site-packages/pyemma/_ext/variational/solvers/direct.py\u001b[0m in \u001b[0;36mspd_inv_sqrt\u001b[0;34m(W, epsilon, method, return_rank)\u001b[0m\n\u001b[1;32m    172\u001b[0m         \u001b[0msm\u001b[0m \u001b[0;34m=\u001b[0m \u001b[0m_np\u001b[0m\u001b[0;34m.\u001b[0m\u001b[0mones\u001b[0m\u001b[0;34m(\u001b[0m\u001b[0;36m1\u001b[0m\u001b[0;34m)\u001b[0m\u001b[0;34m\u001b[0m\u001b[0;34m\u001b[0m\u001b[0m\n\u001b[1;32m    173\u001b[0m     \u001b[0;32melse\u001b[0m\u001b[0;34m:\u001b[0m\u001b[0;34m\u001b[0m\u001b[0;34m\u001b[0m\u001b[0m\n\u001b[0;32m--> 174\u001b[0;31m         \u001b[0msm\u001b[0m\u001b[0;34m,\u001b[0m \u001b[0mVm\u001b[0m \u001b[0;34m=\u001b[0m \u001b[0mspd_eig\u001b[0m\u001b[0;34m(\u001b[0m\u001b[0mW\u001b[0m\u001b[0;34m,\u001b[0m \u001b[0mepsilon\u001b[0m\u001b[0;34m=\u001b[0m\u001b[0mepsilon\u001b[0m\u001b[0;34m,\u001b[0m \u001b[0mmethod\u001b[0m\u001b[0;34m=\u001b[0m\u001b[0mmethod\u001b[0m\u001b[0;34m)\u001b[0m\u001b[0;34m\u001b[0m\u001b[0;34m\u001b[0m\u001b[0m\n\u001b[0m\u001b[1;32m    175\u001b[0m         \u001b[0mWinv\u001b[0m \u001b[0;34m=\u001b[0m \u001b[0m_np\u001b[0m\u001b[0;34m.\u001b[0m\u001b[0mdot\u001b[0m\u001b[0;34m(\u001b[0m\u001b[0mVm\u001b[0m\u001b[0;34m,\u001b[0m \u001b[0m_np\u001b[0m\u001b[0;34m.\u001b[0m\u001b[0mdiag\u001b[0m\u001b[0;34m(\u001b[0m\u001b[0;36m1.0\u001b[0m \u001b[0;34m/\u001b[0m \u001b[0m_np\u001b[0m\u001b[0;34m.\u001b[0m\u001b[0msqrt\u001b[0m\u001b[0;34m(\u001b[0m\u001b[0msm\u001b[0m\u001b[0;34m)\u001b[0m\u001b[0;34m)\u001b[0m\u001b[0;34m)\u001b[0m\u001b[0;34m.\u001b[0m\u001b[0mdot\u001b[0m\u001b[0;34m(\u001b[0m\u001b[0mVm\u001b[0m\u001b[0;34m.\u001b[0m\u001b[0mT\u001b[0m\u001b[0;34m)\u001b[0m\u001b[0;34m\u001b[0m\u001b[0;34m\u001b[0m\u001b[0m\n\u001b[1;32m    176\u001b[0m \u001b[0;34m\u001b[0m\u001b[0m\n",
      "\u001b[0;32m~/opt/miniconda3/envs/analysis/lib/python3.6/site-packages/pyemma/_ext/variational/solvers/direct.py\u001b[0m in \u001b[0;36mspd_eig\u001b[0;34m(W, epsilon, method, canonical_signs)\u001b[0m\n\u001b[1;32m     66\u001b[0m     \u001b[0;32mif\u001b[0m \u001b[0mmethod\u001b[0m\u001b[0;34m.\u001b[0m\u001b[0mlower\u001b[0m\u001b[0;34m(\u001b[0m\u001b[0;34m)\u001b[0m \u001b[0;34m==\u001b[0m \u001b[0;34m'qr'\u001b[0m\u001b[0;34m:\u001b[0m\u001b[0;34m\u001b[0m\u001b[0;34m\u001b[0m\u001b[0m\n\u001b[1;32m     67\u001b[0m         \u001b[0;32mfrom\u001b[0m \u001b[0;34m.\u001b[0m\u001b[0meig_qr\u001b[0m\u001b[0;34m.\u001b[0m\u001b[0meig_qr\u001b[0m \u001b[0;32mimport\u001b[0m \u001b[0meig_qr\u001b[0m\u001b[0;34m\u001b[0m\u001b[0;34m\u001b[0m\u001b[0m\n\u001b[0;32m---> 68\u001b[0;31m         \u001b[0ms\u001b[0m\u001b[0;34m,\u001b[0m \u001b[0mV\u001b[0m \u001b[0;34m=\u001b[0m \u001b[0meig_qr\u001b[0m\u001b[0;34m(\u001b[0m\u001b[0mW\u001b[0m\u001b[0;34m)\u001b[0m\u001b[0;34m\u001b[0m\u001b[0;34m\u001b[0m\u001b[0m\n\u001b[0m\u001b[1;32m     69\u001b[0m     \u001b[0;31m# compute the Eigenvalues of C0 using Schur factorization\u001b[0m\u001b[0;34m\u001b[0m\u001b[0;34m\u001b[0m\u001b[0;34m\u001b[0m\u001b[0m\n\u001b[1;32m     70\u001b[0m     \u001b[0;32melif\u001b[0m \u001b[0mmethod\u001b[0m\u001b[0;34m.\u001b[0m\u001b[0mlower\u001b[0m\u001b[0;34m(\u001b[0m\u001b[0;34m)\u001b[0m \u001b[0;34m==\u001b[0m \u001b[0;34m'schur'\u001b[0m\u001b[0;34m:\u001b[0m\u001b[0;34m\u001b[0m\u001b[0;34m\u001b[0m\u001b[0m\n",
      "\u001b[0;32mpyemma/_ext/variational/solvers/eig_qr/eig_qr.pyx\u001b[0m in \u001b[0;36mpyemma._ext.variational.solvers.eig_qr.eig_qr.eig_qr\u001b[0;34m()\u001b[0m\n",
      "\u001b[0;32m~/opt/miniconda3/envs/analysis/lib/python3.6/site-packages/numpy/core/_asarray.py\u001b[0m in \u001b[0;36masarray\u001b[0;34m(a, dtype, order)\u001b[0m\n\u001b[1;32m     14\u001b[0m ]\n\u001b[1;32m     15\u001b[0m \u001b[0;34m\u001b[0m\u001b[0m\n\u001b[0;32m---> 16\u001b[0;31m \u001b[0;34m@\u001b[0m\u001b[0mset_module\u001b[0m\u001b[0;34m(\u001b[0m\u001b[0;34m'numpy'\u001b[0m\u001b[0;34m)\u001b[0m\u001b[0;34m\u001b[0m\u001b[0;34m\u001b[0m\u001b[0m\n\u001b[0m\u001b[1;32m     17\u001b[0m \u001b[0;32mdef\u001b[0m \u001b[0masarray\u001b[0m\u001b[0;34m(\u001b[0m\u001b[0ma\u001b[0m\u001b[0;34m,\u001b[0m \u001b[0mdtype\u001b[0m\u001b[0;34m=\u001b[0m\u001b[0;32mNone\u001b[0m\u001b[0;34m,\u001b[0m \u001b[0morder\u001b[0m\u001b[0;34m=\u001b[0m\u001b[0;32mNone\u001b[0m\u001b[0;34m)\u001b[0m\u001b[0;34m:\u001b[0m\u001b[0;34m\u001b[0m\u001b[0;34m\u001b[0m\u001b[0m\n\u001b[1;32m     18\u001b[0m     \"\"\"Convert the input to an array.\n",
      "\u001b[0;31mKeyboardInterrupt\u001b[0m: "
     ]
    }
   ],
   "source": [
    "# SUGGESTED HYPERPARAMETERS \n",
    "# the 'suggest' dataframe \n",
    "# suggest, data_dir, ix=0, n_splits = 20, lag = 9, k = 5, method = 'VAMP2', stride = 10, \n",
    "#                 n_trajs = 750, test_size = 0.5, max_iter = 1000\n",
    "\n",
    "test_scores = {'k': [], 'n': [], 'score': []}\n",
    "\n",
    "for n in [100, 1000, 2000, 3000]:\n",
    "#     n = 1000\n",
    "    lag = 9\n",
    "    k = 5\n",
    "    method = 'VAMP2'\n",
    "    n_trajs = 750\n",
    "    stride = 10\n",
    "    max_iter = 1000\n",
    "\n",
    "    feat_dir = data_dir + 'phipsi'\n",
    "\n",
    "    # load data\n",
    "    traj_paths = glob(feat_dir+'/*.npy')\n",
    "    assert len(traj_paths) == n_trajs\n",
    "    trajs = [np.load(x) for x in traj_paths]\n",
    "\n",
    "#     # \n",
    "#     train_scores = []\n",
    "#     test_scores = []\n",
    "\n",
    "\n",
    "    train = [x for x in trajs[:375]]\n",
    "    test = [x for x in trajs[375:]]\n",
    "\n",
    "    # pipeline\n",
    "    cluster = KmeansClustering(n_clusters=n, max_iter=max_iter, stride=stride)\n",
    "    mod = MaximumLikelihoodMSM(lag=lag, score_k=k, score_method=method, sparse=True)\n",
    "\n",
    "    # train\n",
    "    z_train = cluster.fit_transform(train)\n",
    "    z_train = [x.flatten() for x in z_train]\n",
    "    mod.fit(z_train)\n",
    "\n",
    "    # test\n",
    "    z_test = cluster.transform(test)\n",
    "    z_test = [x.flatten() for x in z_test]\n",
    "\n",
    "    for k in [5, 10, 20, 100]:\n",
    "        test_scores['k'].append(k)\n",
    "        test_scores['n'].append(n)\n",
    "        test_scores['score'].append(mod.score(z_test, score_k =k))"
   ]
  },
  {
   "cell_type": "code",
   "execution_count": 91,
   "metadata": {},
   "outputs": [
    {
     "data": {
      "text/plain": [
       "<seaborn.axisgrid.FacetGrid at 0x11bed2630>"
      ]
     },
     "execution_count": 91,
     "metadata": {},
     "output_type": "execute_result"
    },
    {
     "data": {
      "image/png": "[encoded data removed]",
      "text/plain": [
       "<Figure size 864x216 with 4 Axes>"
      ]
     },
     "metadata": {
      "needs_background": "light"
     },
     "output_type": "display_data"
    }
   ],
   "source": [
    "g = sns.FacetGrid(pd.DataFrame(test_scores), col='k')\n",
    "g.map(plt.plot, 'n', 'score')"
   ]
  },
  {
   "cell_type": "code",
   "execution_count": null,
   "metadata": {},
   "outputs": [],
   "source": []
  }
 ],
 "metadata": {
  "kernelspec": {
   "display_name": "Python 3",
   "language": "python",
   "name": "python3"
  },
  "language_info": {
   "codemirror_mode": {
    "name": "ipython",
    "version": 3
   },
   "file_extension": ".py",
   "mimetype": "text/x-python",
   "name": "python",
   "nbconvert_exporter": "python",
   "pygments_lexer": "ipython3",
   "version": "3.7.0"
  }
 },
 "nbformat": 4,
 "nbformat_minor": 4
}
